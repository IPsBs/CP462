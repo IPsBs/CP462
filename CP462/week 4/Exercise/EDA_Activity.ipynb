{
  "nbformat": 4,
  "nbformat_minor": 0,
  "metadata": {
    "colab": {
      "provenance": []
    },
    "kernelspec": {
      "name": "python3",
      "display_name": "Python 3"
    },
    "language_info": {
      "name": "python"
    }
  },
  "cells": [
    {
      "cell_type": "markdown",
      "source": [
        "Name"
      ],
      "metadata": {
        "id": "hP_C1ZZRd67D"
      }
    },
    {
      "cell_type": "markdown",
      "source": [
        "# EDA Activity: Net Pracharat Usage in Province ช."
      ],
      "metadata": {
        "id": "ClINfGfbYgxR"
      }
    },
    {
      "cell_type": "code",
      "execution_count": null,
      "metadata": {
        "id": "_WP_Wy9-YZZe",
        "colab": {
          "base_uri": "https://localhost:8080/",
          "height": 54
        },
        "outputId": "d89a2065-fa6e-4573-c234-ced05bd8a8c5"
      },
      "outputs": [
        {
          "output_type": "stream",
          "name": "stdout",
          "text": [
            "Python 3.10.12\n"
          ]
        },
        {
          "output_type": "execute_result",
          "data": {
            "text/plain": [
              "'1.23.5'"
            ],
            "application/vnd.google.colaboratory.intrinsic+json": {
              "type": "string"
            }
          },
          "metadata": {},
          "execution_count": 31
        }
      ],
      "source": [
        "import numpy as np\n",
        "import matplotlib.pyplot as plt\n",
        "import pandas as pd\n",
        "import seaborn as sns\n",
        "!python --version\n",
        "np.version.version"
      ]
    },
    {
      "cell_type": "markdown",
      "source": [
        "As data contains Thai characters, we need to load Thai fonts for matplotlib."
      ],
      "metadata": {
        "id": "lPI9hkEHZA5m"
      }
    },
    {
      "cell_type": "code",
      "source": [
        "import matplotlib as mpl\n",
        "\n",
        "mpl.font_manager.fontManager.addfont('THSarabunChula-Regular.ttf')\n",
        "mpl.rc('font',family='TH Sarabun Chula')"
      ],
      "metadata": {
        "id": "CHxIblIQY6s9"
      },
      "execution_count": null,
      "outputs": []
    },
    {
      "cell_type": "markdown",
      "source": [
        "Let's ingest our data file and take a look."
      ],
      "metadata": {
        "id": "PZwYqZPda7KC"
      }
    },
    {
      "cell_type": "code",
      "source": [
        "df = pd.read_csv('internetpracharat2.csv', index_col='ID')\n",
        "df.head()"
      ],
      "metadata": {
        "id": "gaO76f91Y_5w",
        "colab": {
          "base_uri": "https://localhost:8080/",
          "height": 324
        },
        "outputId": "49d5df24-228c-4305-b955-2031cfeee8f8"
      },
      "execution_count": null,
      "outputs": [
        {
          "output_type": "execute_result",
          "data": {
            "text/plain": [
              "    YEAR    MONTH CIRCUIT_NO  APP_CODE REGION              VILLAGE  \\\n",
              "ID                                                                   \n",
              "1   2564  กรกฎาคม  4485d9000  SR711371    ภ.2  หมู่ 13 บ้านมะเกลือ   \n",
              "2   2564  กรกฎาคม  4485d9001  SR711374    ภ.2   หมู่ 17 บ้านโนนทอง   \n",
              "3   2564  กรกฎาคม  4486d9000  SR711628    ภ.2          หมู่ 1 เพชร   \n",
              "4   2564  กรกฎาคม  4486d9001  SR711630    ภ.2       หมู่ 8 เพชรใต้   \n",
              "5   2564  กรกฎาคม  4486d9002  SR711631    ภ.2        หมู่ 9 กุดตูม   \n",
              "\n",
              "   SUBDISTRICT DISTRICT PROVINCE       AP_NAME     IP_ADDRESS     UPLOAD  \\\n",
              "ID                                                                         \n",
              "1      บ้านกอก  จัตุรัส  ชัยภูมิ  CPM-SR711371   172.16.140.2   4,901.45   \n",
              "2      บ้านกอก  จัตุรัส  ชัยภูมิ  CPM-SR711374  172.16.140.10   1,609.27   \n",
              "3     บ้านเพชร  ภูเขียว  ชัยภูมิ  CPM-SR711628  172.16.140.50   6,318.99   \n",
              "4     บ้านเพชร  ภูเขียว  ชัยภูมิ  CPM-SR711630  172.16.140.58   2,753.82   \n",
              "5     บ้านเพชร  ภูเขียว  ชัยภูมิ  CPM-SR711631  172.16.140.66  13,661.13   \n",
              "\n",
              "      DOWNLOAD NUM_USERS  NUM_DEVICES  \n",
              "ID                                     \n",
              "1    86,793.12       403         57.0  \n",
              "2    18,763.15       364         69.0  \n",
              "3    91,007.66       693        182.0  \n",
              "4    71,735.24       855        260.0  \n",
              "5   259,679.82       835         54.0  "
            ],
            "text/html": [
              "\n",
              "  <div id=\"df-f797d596-b92c-43e0-ab9c-8dca71d07aaf\" class=\"colab-df-container\">\n",
              "    <div>\n",
              "<style scoped>\n",
              "    .dataframe tbody tr th:only-of-type {\n",
              "        vertical-align: middle;\n",
              "    }\n",
              "\n",
              "    .dataframe tbody tr th {\n",
              "        vertical-align: top;\n",
              "    }\n",
              "\n",
              "    .dataframe thead th {\n",
              "        text-align: right;\n",
              "    }\n",
              "</style>\n",
              "<table border=\"1\" class=\"dataframe\">\n",
              "  <thead>\n",
              "    <tr style=\"text-align: right;\">\n",
              "      <th></th>\n",
              "      <th>YEAR</th>\n",
              "      <th>MONTH</th>\n",
              "      <th>CIRCUIT_NO</th>\n",
              "      <th>APP_CODE</th>\n",
              "      <th>REGION</th>\n",
              "      <th>VILLAGE</th>\n",
              "      <th>SUBDISTRICT</th>\n",
              "      <th>DISTRICT</th>\n",
              "      <th>PROVINCE</th>\n",
              "      <th>AP_NAME</th>\n",
              "      <th>IP_ADDRESS</th>\n",
              "      <th>UPLOAD</th>\n",
              "      <th>DOWNLOAD</th>\n",
              "      <th>NUM_USERS</th>\n",
              "      <th>NUM_DEVICES</th>\n",
              "    </tr>\n",
              "    <tr>\n",
              "      <th>ID</th>\n",
              "      <th></th>\n",
              "      <th></th>\n",
              "      <th></th>\n",
              "      <th></th>\n",
              "      <th></th>\n",
              "      <th></th>\n",
              "      <th></th>\n",
              "      <th></th>\n",
              "      <th></th>\n",
              "      <th></th>\n",
              "      <th></th>\n",
              "      <th></th>\n",
              "      <th></th>\n",
              "      <th></th>\n",
              "      <th></th>\n",
              "    </tr>\n",
              "  </thead>\n",
              "  <tbody>\n",
              "    <tr>\n",
              "      <th>1</th>\n",
              "      <td>2564</td>\n",
              "      <td>กรกฎาคม</td>\n",
              "      <td>4485d9000</td>\n",
              "      <td>SR711371</td>\n",
              "      <td>ภ.2</td>\n",
              "      <td>หมู่ 13 บ้านมะเกลือ</td>\n",
              "      <td>บ้านกอก</td>\n",
              "      <td>จัตุรัส</td>\n",
              "      <td>ชัยภูมิ</td>\n",
              "      <td>CPM-SR711371</td>\n",
              "      <td>172.16.140.2</td>\n",
              "      <td>4,901.45</td>\n",
              "      <td>86,793.12</td>\n",
              "      <td>403</td>\n",
              "      <td>57.0</td>\n",
              "    </tr>\n",
              "    <tr>\n",
              "      <th>2</th>\n",
              "      <td>2564</td>\n",
              "      <td>กรกฎาคม</td>\n",
              "      <td>4485d9001</td>\n",
              "      <td>SR711374</td>\n",
              "      <td>ภ.2</td>\n",
              "      <td>หมู่ 17 บ้านโนนทอง</td>\n",
              "      <td>บ้านกอก</td>\n",
              "      <td>จัตุรัส</td>\n",
              "      <td>ชัยภูมิ</td>\n",
              "      <td>CPM-SR711374</td>\n",
              "      <td>172.16.140.10</td>\n",
              "      <td>1,609.27</td>\n",
              "      <td>18,763.15</td>\n",
              "      <td>364</td>\n",
              "      <td>69.0</td>\n",
              "    </tr>\n",
              "    <tr>\n",
              "      <th>3</th>\n",
              "      <td>2564</td>\n",
              "      <td>กรกฎาคม</td>\n",
              "      <td>4486d9000</td>\n",
              "      <td>SR711628</td>\n",
              "      <td>ภ.2</td>\n",
              "      <td>หมู่ 1 เพชร</td>\n",
              "      <td>บ้านเพชร</td>\n",
              "      <td>ภูเขียว</td>\n",
              "      <td>ชัยภูมิ</td>\n",
              "      <td>CPM-SR711628</td>\n",
              "      <td>172.16.140.50</td>\n",
              "      <td>6,318.99</td>\n",
              "      <td>91,007.66</td>\n",
              "      <td>693</td>\n",
              "      <td>182.0</td>\n",
              "    </tr>\n",
              "    <tr>\n",
              "      <th>4</th>\n",
              "      <td>2564</td>\n",
              "      <td>กรกฎาคม</td>\n",
              "      <td>4486d9001</td>\n",
              "      <td>SR711630</td>\n",
              "      <td>ภ.2</td>\n",
              "      <td>หมู่ 8 เพชรใต้</td>\n",
              "      <td>บ้านเพชร</td>\n",
              "      <td>ภูเขียว</td>\n",
              "      <td>ชัยภูมิ</td>\n",
              "      <td>CPM-SR711630</td>\n",
              "      <td>172.16.140.58</td>\n",
              "      <td>2,753.82</td>\n",
              "      <td>71,735.24</td>\n",
              "      <td>855</td>\n",
              "      <td>260.0</td>\n",
              "    </tr>\n",
              "    <tr>\n",
              "      <th>5</th>\n",
              "      <td>2564</td>\n",
              "      <td>กรกฎาคม</td>\n",
              "      <td>4486d9002</td>\n",
              "      <td>SR711631</td>\n",
              "      <td>ภ.2</td>\n",
              "      <td>หมู่ 9 กุดตูม</td>\n",
              "      <td>บ้านเพชร</td>\n",
              "      <td>ภูเขียว</td>\n",
              "      <td>ชัยภูมิ</td>\n",
              "      <td>CPM-SR711631</td>\n",
              "      <td>172.16.140.66</td>\n",
              "      <td>13,661.13</td>\n",
              "      <td>259,679.82</td>\n",
              "      <td>835</td>\n",
              "      <td>54.0</td>\n",
              "    </tr>\n",
              "  </tbody>\n",
              "</table>\n",
              "</div>\n",
              "    <div class=\"colab-df-buttons\">\n",
              "\n",
              "  <div class=\"colab-df-container\">\n",
              "    <button class=\"colab-df-convert\" onclick=\"convertToInteractive('df-f797d596-b92c-43e0-ab9c-8dca71d07aaf')\"\n",
              "            title=\"Convert this dataframe to an interactive table.\"\n",
              "            style=\"display:none;\">\n",
              "\n",
              "  <svg xmlns=\"http://www.w3.org/2000/svg\" height=\"24px\" viewBox=\"0 -960 960 960\">\n",
              "    <path d=\"M120-120v-720h720v720H120Zm60-500h600v-160H180v160Zm220 220h160v-160H400v160Zm0 220h160v-160H400v160ZM180-400h160v-160H180v160Zm440 0h160v-160H620v160ZM180-180h160v-160H180v160Zm440 0h160v-160H620v160Z\"/>\n",
              "  </svg>\n",
              "    </button>\n",
              "\n",
              "  <style>\n",
              "    .colab-df-container {\n",
              "      display:flex;\n",
              "      gap: 12px;\n",
              "    }\n",
              "\n",
              "    .colab-df-convert {\n",
              "      background-color: #E8F0FE;\n",
              "      border: none;\n",
              "      border-radius: 50%;\n",
              "      cursor: pointer;\n",
              "      display: none;\n",
              "      fill: #1967D2;\n",
              "      height: 32px;\n",
              "      padding: 0 0 0 0;\n",
              "      width: 32px;\n",
              "    }\n",
              "\n",
              "    .colab-df-convert:hover {\n",
              "      background-color: #E2EBFA;\n",
              "      box-shadow: 0px 1px 2px rgba(60, 64, 67, 0.3), 0px 1px 3px 1px rgba(60, 64, 67, 0.15);\n",
              "      fill: #174EA6;\n",
              "    }\n",
              "\n",
              "    .colab-df-buttons div {\n",
              "      margin-bottom: 4px;\n",
              "    }\n",
              "\n",
              "    [theme=dark] .colab-df-convert {\n",
              "      background-color: #3B4455;\n",
              "      fill: #D2E3FC;\n",
              "    }\n",
              "\n",
              "    [theme=dark] .colab-df-convert:hover {\n",
              "      background-color: #434B5C;\n",
              "      box-shadow: 0px 1px 3px 1px rgba(0, 0, 0, 0.15);\n",
              "      filter: drop-shadow(0px 1px 2px rgba(0, 0, 0, 0.3));\n",
              "      fill: #FFFFFF;\n",
              "    }\n",
              "  </style>\n",
              "\n",
              "    <script>\n",
              "      const buttonEl =\n",
              "        document.querySelector('#df-f797d596-b92c-43e0-ab9c-8dca71d07aaf button.colab-df-convert');\n",
              "      buttonEl.style.display =\n",
              "        google.colab.kernel.accessAllowed ? 'block' : 'none';\n",
              "\n",
              "      async function convertToInteractive(key) {\n",
              "        const element = document.querySelector('#df-f797d596-b92c-43e0-ab9c-8dca71d07aaf');\n",
              "        const dataTable =\n",
              "          await google.colab.kernel.invokeFunction('convertToInteractive',\n",
              "                                                    [key], {});\n",
              "        if (!dataTable) return;\n",
              "\n",
              "        const docLinkHtml = 'Like what you see? Visit the ' +\n",
              "          '<a target=\"_blank\" href=https://colab.research.google.com/notebooks/data_table.ipynb>data table notebook</a>'\n",
              "          + ' to learn more about interactive tables.';\n",
              "        element.innerHTML = '';\n",
              "        dataTable['output_type'] = 'display_data';\n",
              "        await google.colab.output.renderOutput(dataTable, element);\n",
              "        const docLink = document.createElement('div');\n",
              "        docLink.innerHTML = docLinkHtml;\n",
              "        element.appendChild(docLink);\n",
              "      }\n",
              "    </script>\n",
              "  </div>\n",
              "\n",
              "\n",
              "<div id=\"df-3f29a69c-b612-40fb-a506-d5fcc85f0cdb\">\n",
              "  <button class=\"colab-df-quickchart\" onclick=\"quickchart('df-3f29a69c-b612-40fb-a506-d5fcc85f0cdb')\"\n",
              "            title=\"Suggest charts.\"\n",
              "            style=\"display:none;\">\n",
              "\n",
              "<svg xmlns=\"http://www.w3.org/2000/svg\" height=\"24px\"viewBox=\"0 0 24 24\"\n",
              "     width=\"24px\">\n",
              "    <g>\n",
              "        <path d=\"M19 3H5c-1.1 0-2 .9-2 2v14c0 1.1.9 2 2 2h14c1.1 0 2-.9 2-2V5c0-1.1-.9-2-2-2zM9 17H7v-7h2v7zm4 0h-2V7h2v10zm4 0h-2v-4h2v4z\"/>\n",
              "    </g>\n",
              "</svg>\n",
              "  </button>\n",
              "\n",
              "<style>\n",
              "  .colab-df-quickchart {\n",
              "    background-color: #E8F0FE;\n",
              "    border: none;\n",
              "    border-radius: 50%;\n",
              "    cursor: pointer;\n",
              "    display: none;\n",
              "    fill: #1967D2;\n",
              "    height: 32px;\n",
              "    padding: 0 0 0 0;\n",
              "    width: 32px;\n",
              "  }\n",
              "\n",
              "  .colab-df-quickchart:hover {\n",
              "    background-color: #E2EBFA;\n",
              "    box-shadow: 0px 1px 2px rgba(60, 64, 67, 0.3), 0px 1px 3px 1px rgba(60, 64, 67, 0.15);\n",
              "    fill: #174EA6;\n",
              "  }\n",
              "\n",
              "  [theme=dark] .colab-df-quickchart {\n",
              "    background-color: #3B4455;\n",
              "    fill: #D2E3FC;\n",
              "  }\n",
              "\n",
              "  [theme=dark] .colab-df-quickchart:hover {\n",
              "    background-color: #434B5C;\n",
              "    box-shadow: 0px 1px 3px 1px rgba(0, 0, 0, 0.15);\n",
              "    filter: drop-shadow(0px 1px 2px rgba(0, 0, 0, 0.3));\n",
              "    fill: #FFFFFF;\n",
              "  }\n",
              "</style>\n",
              "\n",
              "  <script>\n",
              "    async function quickchart(key) {\n",
              "      const charts = await google.colab.kernel.invokeFunction(\n",
              "          'suggestCharts', [key], {});\n",
              "    }\n",
              "    (() => {\n",
              "      let quickchartButtonEl =\n",
              "        document.querySelector('#df-3f29a69c-b612-40fb-a506-d5fcc85f0cdb button');\n",
              "      quickchartButtonEl.style.display =\n",
              "        google.colab.kernel.accessAllowed ? 'block' : 'none';\n",
              "    })();\n",
              "  </script>\n",
              "</div>\n",
              "    </div>\n",
              "  </div>\n"
            ]
          },
          "metadata": {},
          "execution_count": 33
        }
      ]
    },
    {
      "cell_type": "code",
      "source": [
        "df.tail()"
      ],
      "metadata": {
        "id": "EOiRc1UsZj4l",
        "colab": {
          "base_uri": "https://localhost:8080/",
          "height": 324
        },
        "outputId": "902451c8-5e46-4ca8-b115-bb2d45ddfae3"
      },
      "execution_count": null,
      "outputs": [
        {
          "output_type": "execute_result",
          "data": {
            "text/plain": [
              "      YEAR    MONTH CIRCUIT_NO  APP_CODE REGION             VILLAGE  \\\n",
              "ID                                                                    \n",
              "1187  2564  กรกฎาคม  5343d9024  SR712885    ภ.3   หมู่ 10 เมืองหนอง   \n",
              "1188  2564  กรกฎาคม  5343d9038  SR768854    ภ.3      หมู่ 15 โป่งไฮ   \n",
              "1189  2564  กรกฎาคม  5343d9035  SR767884    ภ.3  หมู่ 3 ดอยชัยเหนือ   \n",
              "1190  2564  กรกฎาคม  5343d9015  SR705362    ภ.3  หมู่ 9 ปางต้นเดื่อ   \n",
              "1191  2564  กรกฎาคม  5343d9016  SR705364    ภ.3     หมู่ 13 ดอยแหลม   \n",
              "\n",
              "     SUBDISTRICT DISTRICT   PROVINCE       AP_NAME     IP_ADDRESS     UPLOAD  \\\n",
              "ID                                                                             \n",
              "1187      แม่สาว   แม่อาย  เชียงใหม่  CMI-SR712885   172.18.38.50   9,793.36   \n",
              "1188      แม่สาว   แม่อาย  เชียงใหม่  CMI-SR768854  172.18.38.106  31,328.40   \n",
              "1189      แม่อาย   แม่อาย  เชียงใหม่  CMI-SR767884   172.18.38.98   6,617.29   \n",
              "1190      แม่อาย   แม่อาย  เชียงใหม่  CMI-SR705362  172.18.37.234  18,093.46   \n",
              "1191      แม่อาย   แม่อาย  เชียงใหม่  CMI-SR705364  172.18.37.242  67,993.63   \n",
              "\n",
              "          DOWNLOAD NUM_USERS  NUM_DEVICES  \n",
              "ID                                         \n",
              "1187    156,548.58       982         87.0  \n",
              "1188    572,314.84     1,542        235.0  \n",
              "1189    161,646.30       537         63.0  \n",
              "1190    329,186.49     1,816        129.0  \n",
              "1191  1,045,299.83     4,715        194.0  "
            ],
            "text/html": [
              "\n",
              "  <div id=\"df-9272617c-187d-4dc3-9b1a-f2908e6a5c7d\" class=\"colab-df-container\">\n",
              "    <div>\n",
              "<style scoped>\n",
              "    .dataframe tbody tr th:only-of-type {\n",
              "        vertical-align: middle;\n",
              "    }\n",
              "\n",
              "    .dataframe tbody tr th {\n",
              "        vertical-align: top;\n",
              "    }\n",
              "\n",
              "    .dataframe thead th {\n",
              "        text-align: right;\n",
              "    }\n",
              "</style>\n",
              "<table border=\"1\" class=\"dataframe\">\n",
              "  <thead>\n",
              "    <tr style=\"text-align: right;\">\n",
              "      <th></th>\n",
              "      <th>YEAR</th>\n",
              "      <th>MONTH</th>\n",
              "      <th>CIRCUIT_NO</th>\n",
              "      <th>APP_CODE</th>\n",
              "      <th>REGION</th>\n",
              "      <th>VILLAGE</th>\n",
              "      <th>SUBDISTRICT</th>\n",
              "      <th>DISTRICT</th>\n",
              "      <th>PROVINCE</th>\n",
              "      <th>AP_NAME</th>\n",
              "      <th>IP_ADDRESS</th>\n",
              "      <th>UPLOAD</th>\n",
              "      <th>DOWNLOAD</th>\n",
              "      <th>NUM_USERS</th>\n",
              "      <th>NUM_DEVICES</th>\n",
              "    </tr>\n",
              "    <tr>\n",
              "      <th>ID</th>\n",
              "      <th></th>\n",
              "      <th></th>\n",
              "      <th></th>\n",
              "      <th></th>\n",
              "      <th></th>\n",
              "      <th></th>\n",
              "      <th></th>\n",
              "      <th></th>\n",
              "      <th></th>\n",
              "      <th></th>\n",
              "      <th></th>\n",
              "      <th></th>\n",
              "      <th></th>\n",
              "      <th></th>\n",
              "      <th></th>\n",
              "    </tr>\n",
              "  </thead>\n",
              "  <tbody>\n",
              "    <tr>\n",
              "      <th>1187</th>\n",
              "      <td>2564</td>\n",
              "      <td>กรกฎาคม</td>\n",
              "      <td>5343d9024</td>\n",
              "      <td>SR712885</td>\n",
              "      <td>ภ.3</td>\n",
              "      <td>หมู่ 10 เมืองหนอง</td>\n",
              "      <td>แม่สาว</td>\n",
              "      <td>แม่อาย</td>\n",
              "      <td>เชียงใหม่</td>\n",
              "      <td>CMI-SR712885</td>\n",
              "      <td>172.18.38.50</td>\n",
              "      <td>9,793.36</td>\n",
              "      <td>156,548.58</td>\n",
              "      <td>982</td>\n",
              "      <td>87.0</td>\n",
              "    </tr>\n",
              "    <tr>\n",
              "      <th>1188</th>\n",
              "      <td>2564</td>\n",
              "      <td>กรกฎาคม</td>\n",
              "      <td>5343d9038</td>\n",
              "      <td>SR768854</td>\n",
              "      <td>ภ.3</td>\n",
              "      <td>หมู่ 15 โป่งไฮ</td>\n",
              "      <td>แม่สาว</td>\n",
              "      <td>แม่อาย</td>\n",
              "      <td>เชียงใหม่</td>\n",
              "      <td>CMI-SR768854</td>\n",
              "      <td>172.18.38.106</td>\n",
              "      <td>31,328.40</td>\n",
              "      <td>572,314.84</td>\n",
              "      <td>1,542</td>\n",
              "      <td>235.0</td>\n",
              "    </tr>\n",
              "    <tr>\n",
              "      <th>1189</th>\n",
              "      <td>2564</td>\n",
              "      <td>กรกฎาคม</td>\n",
              "      <td>5343d9035</td>\n",
              "      <td>SR767884</td>\n",
              "      <td>ภ.3</td>\n",
              "      <td>หมู่ 3 ดอยชัยเหนือ</td>\n",
              "      <td>แม่อาย</td>\n",
              "      <td>แม่อาย</td>\n",
              "      <td>เชียงใหม่</td>\n",
              "      <td>CMI-SR767884</td>\n",
              "      <td>172.18.38.98</td>\n",
              "      <td>6,617.29</td>\n",
              "      <td>161,646.30</td>\n",
              "      <td>537</td>\n",
              "      <td>63.0</td>\n",
              "    </tr>\n",
              "    <tr>\n",
              "      <th>1190</th>\n",
              "      <td>2564</td>\n",
              "      <td>กรกฎาคม</td>\n",
              "      <td>5343d9015</td>\n",
              "      <td>SR705362</td>\n",
              "      <td>ภ.3</td>\n",
              "      <td>หมู่ 9 ปางต้นเดื่อ</td>\n",
              "      <td>แม่อาย</td>\n",
              "      <td>แม่อาย</td>\n",
              "      <td>เชียงใหม่</td>\n",
              "      <td>CMI-SR705362</td>\n",
              "      <td>172.18.37.234</td>\n",
              "      <td>18,093.46</td>\n",
              "      <td>329,186.49</td>\n",
              "      <td>1,816</td>\n",
              "      <td>129.0</td>\n",
              "    </tr>\n",
              "    <tr>\n",
              "      <th>1191</th>\n",
              "      <td>2564</td>\n",
              "      <td>กรกฎาคม</td>\n",
              "      <td>5343d9016</td>\n",
              "      <td>SR705364</td>\n",
              "      <td>ภ.3</td>\n",
              "      <td>หมู่ 13 ดอยแหลม</td>\n",
              "      <td>แม่อาย</td>\n",
              "      <td>แม่อาย</td>\n",
              "      <td>เชียงใหม่</td>\n",
              "      <td>CMI-SR705364</td>\n",
              "      <td>172.18.37.242</td>\n",
              "      <td>67,993.63</td>\n",
              "      <td>1,045,299.83</td>\n",
              "      <td>4,715</td>\n",
              "      <td>194.0</td>\n",
              "    </tr>\n",
              "  </tbody>\n",
              "</table>\n",
              "</div>\n",
              "    <div class=\"colab-df-buttons\">\n",
              "\n",
              "  <div class=\"colab-df-container\">\n",
              "    <button class=\"colab-df-convert\" onclick=\"convertToInteractive('df-9272617c-187d-4dc3-9b1a-f2908e6a5c7d')\"\n",
              "            title=\"Convert this dataframe to an interactive table.\"\n",
              "            style=\"display:none;\">\n",
              "\n",
              "  <svg xmlns=\"http://www.w3.org/2000/svg\" height=\"24px\" viewBox=\"0 -960 960 960\">\n",
              "    <path d=\"M120-120v-720h720v720H120Zm60-500h600v-160H180v160Zm220 220h160v-160H400v160Zm0 220h160v-160H400v160ZM180-400h160v-160H180v160Zm440 0h160v-160H620v160ZM180-180h160v-160H180v160Zm440 0h160v-160H620v160Z\"/>\n",
              "  </svg>\n",
              "    </button>\n",
              "\n",
              "  <style>\n",
              "    .colab-df-container {\n",
              "      display:flex;\n",
              "      gap: 12px;\n",
              "    }\n",
              "\n",
              "    .colab-df-convert {\n",
              "      background-color: #E8F0FE;\n",
              "      border: none;\n",
              "      border-radius: 50%;\n",
              "      cursor: pointer;\n",
              "      display: none;\n",
              "      fill: #1967D2;\n",
              "      height: 32px;\n",
              "      padding: 0 0 0 0;\n",
              "      width: 32px;\n",
              "    }\n",
              "\n",
              "    .colab-df-convert:hover {\n",
              "      background-color: #E2EBFA;\n",
              "      box-shadow: 0px 1px 2px rgba(60, 64, 67, 0.3), 0px 1px 3px 1px rgba(60, 64, 67, 0.15);\n",
              "      fill: #174EA6;\n",
              "    }\n",
              "\n",
              "    .colab-df-buttons div {\n",
              "      margin-bottom: 4px;\n",
              "    }\n",
              "\n",
              "    [theme=dark] .colab-df-convert {\n",
              "      background-color: #3B4455;\n",
              "      fill: #D2E3FC;\n",
              "    }\n",
              "\n",
              "    [theme=dark] .colab-df-convert:hover {\n",
              "      background-color: #434B5C;\n",
              "      box-shadow: 0px 1px 3px 1px rgba(0, 0, 0, 0.15);\n",
              "      filter: drop-shadow(0px 1px 2px rgba(0, 0, 0, 0.3));\n",
              "      fill: #FFFFFF;\n",
              "    }\n",
              "  </style>\n",
              "\n",
              "    <script>\n",
              "      const buttonEl =\n",
              "        document.querySelector('#df-9272617c-187d-4dc3-9b1a-f2908e6a5c7d button.colab-df-convert');\n",
              "      buttonEl.style.display =\n",
              "        google.colab.kernel.accessAllowed ? 'block' : 'none';\n",
              "\n",
              "      async function convertToInteractive(key) {\n",
              "        const element = document.querySelector('#df-9272617c-187d-4dc3-9b1a-f2908e6a5c7d');\n",
              "        const dataTable =\n",
              "          await google.colab.kernel.invokeFunction('convertToInteractive',\n",
              "                                                    [key], {});\n",
              "        if (!dataTable) return;\n",
              "\n",
              "        const docLinkHtml = 'Like what you see? Visit the ' +\n",
              "          '<a target=\"_blank\" href=https://colab.research.google.com/notebooks/data_table.ipynb>data table notebook</a>'\n",
              "          + ' to learn more about interactive tables.';\n",
              "        element.innerHTML = '';\n",
              "        dataTable['output_type'] = 'display_data';\n",
              "        await google.colab.output.renderOutput(dataTable, element);\n",
              "        const docLink = document.createElement('div');\n",
              "        docLink.innerHTML = docLinkHtml;\n",
              "        element.appendChild(docLink);\n",
              "      }\n",
              "    </script>\n",
              "  </div>\n",
              "\n",
              "\n",
              "<div id=\"df-88f9bd91-a16b-45fa-8387-7de2c44c5dbc\">\n",
              "  <button class=\"colab-df-quickchart\" onclick=\"quickchart('df-88f9bd91-a16b-45fa-8387-7de2c44c5dbc')\"\n",
              "            title=\"Suggest charts.\"\n",
              "            style=\"display:none;\">\n",
              "\n",
              "<svg xmlns=\"http://www.w3.org/2000/svg\" height=\"24px\"viewBox=\"0 0 24 24\"\n",
              "     width=\"24px\">\n",
              "    <g>\n",
              "        <path d=\"M19 3H5c-1.1 0-2 .9-2 2v14c0 1.1.9 2 2 2h14c1.1 0 2-.9 2-2V5c0-1.1-.9-2-2-2zM9 17H7v-7h2v7zm4 0h-2V7h2v10zm4 0h-2v-4h2v4z\"/>\n",
              "    </g>\n",
              "</svg>\n",
              "  </button>\n",
              "\n",
              "<style>\n",
              "  .colab-df-quickchart {\n",
              "    background-color: #E8F0FE;\n",
              "    border: none;\n",
              "    border-radius: 50%;\n",
              "    cursor: pointer;\n",
              "    display: none;\n",
              "    fill: #1967D2;\n",
              "    height: 32px;\n",
              "    padding: 0 0 0 0;\n",
              "    width: 32px;\n",
              "  }\n",
              "\n",
              "  .colab-df-quickchart:hover {\n",
              "    background-color: #E2EBFA;\n",
              "    box-shadow: 0px 1px 2px rgba(60, 64, 67, 0.3), 0px 1px 3px 1px rgba(60, 64, 67, 0.15);\n",
              "    fill: #174EA6;\n",
              "  }\n",
              "\n",
              "  [theme=dark] .colab-df-quickchart {\n",
              "    background-color: #3B4455;\n",
              "    fill: #D2E3FC;\n",
              "  }\n",
              "\n",
              "  [theme=dark] .colab-df-quickchart:hover {\n",
              "    background-color: #434B5C;\n",
              "    box-shadow: 0px 1px 3px 1px rgba(0, 0, 0, 0.15);\n",
              "    filter: drop-shadow(0px 1px 2px rgba(0, 0, 0, 0.3));\n",
              "    fill: #FFFFFF;\n",
              "  }\n",
              "</style>\n",
              "\n",
              "  <script>\n",
              "    async function quickchart(key) {\n",
              "      const charts = await google.colab.kernel.invokeFunction(\n",
              "          'suggestCharts', [key], {});\n",
              "    }\n",
              "    (() => {\n",
              "      let quickchartButtonEl =\n",
              "        document.querySelector('#df-88f9bd91-a16b-45fa-8387-7de2c44c5dbc button');\n",
              "      quickchartButtonEl.style.display =\n",
              "        google.colab.kernel.accessAllowed ? 'block' : 'none';\n",
              "    })();\n",
              "  </script>\n",
              "</div>\n",
              "    </div>\n",
              "  </div>\n"
            ]
          },
          "metadata": {},
          "execution_count": 34
        }
      ]
    },
    {
      "cell_type": "code",
      "source": [
        "df.shape"
      ],
      "metadata": {
        "id": "17fUywMLZh6X",
        "colab": {
          "base_uri": "https://localhost:8080/"
        },
        "outputId": "31a0d249-a2e2-4b44-f2ed-3feabfc4bede"
      },
      "execution_count": null,
      "outputs": [
        {
          "output_type": "execute_result",
          "data": {
            "text/plain": [
              "(1191, 15)"
            ]
          },
          "metadata": {},
          "execution_count": 35
        }
      ]
    },
    {
      "cell_type": "code",
      "source": [
        "df.info()"
      ],
      "metadata": {
        "id": "TObDkRv5ZnhO",
        "colab": {
          "base_uri": "https://localhost:8080/"
        },
        "outputId": "9d8fcfaa-67e3-4390-d4f8-f41716336159"
      },
      "execution_count": null,
      "outputs": [
        {
          "output_type": "stream",
          "name": "stdout",
          "text": [
            "<class 'pandas.core.frame.DataFrame'>\n",
            "Int64Index: 1191 entries, 1 to 1191\n",
            "Data columns (total 15 columns):\n",
            " #   Column       Non-Null Count  Dtype  \n",
            "---  ------       --------------  -----  \n",
            " 0   YEAR         1191 non-null   int64  \n",
            " 1   MONTH        1191 non-null   object \n",
            " 2   CIRCUIT_NO   1191 non-null   object \n",
            " 3   APP_CODE     1191 non-null   object \n",
            " 4   REGION       1191 non-null   object \n",
            " 5   VILLAGE      1191 non-null   object \n",
            " 6   SUBDISTRICT  1191 non-null   object \n",
            " 7   DISTRICT     1183 non-null   object \n",
            " 8   PROVINCE     1191 non-null   object \n",
            " 9   AP_NAME      1191 non-null   object \n",
            " 10  IP_ADDRESS   1191 non-null   object \n",
            " 11  UPLOAD       1188 non-null   object \n",
            " 12  DOWNLOAD     1187 non-null   object \n",
            " 13  NUM_USERS    1187 non-null   object \n",
            " 14  NUM_DEVICES  1187 non-null   float64\n",
            "dtypes: float64(1), int64(1), object(13)\n",
            "memory usage: 148.9+ KB\n"
          ]
        }
      ]
    },
    {
      "cell_type": "markdown",
      "source": [
        "We need to convert data types of numeric columns first."
      ],
      "metadata": {
        "id": "kYdJ43Ixa0VU"
      }
    },
    {
      "cell_type": "code",
      "source": [
        "df['UPLOAD']=df['UPLOAD'].str.replace(',','')\n",
        "df['UPLOAD']=df['UPLOAD'].astype('float')\n",
        "df['DOWNLOAD']=df['DOWNLOAD'].str.replace(',','')\n",
        "df['DOWNLOAD']=df['DOWNLOAD'].astype('float')\n",
        "df['NUM_USERS']=df['NUM_USERS'].str.replace(',','')\n",
        "df['NUM_USERS']=pd.to_numeric(df['NUM_USERS'], errors='coerce')\n",
        "df['NUM_DEVICES']=pd.to_numeric(df['NUM_DEVICES'], errors='coerce')"
      ],
      "metadata": {
        "id": "vK2wQEpJZo2l"
      },
      "execution_count": null,
      "outputs": []
    },
    {
      "cell_type": "code",
      "source": [
        "df.info()"
      ],
      "metadata": {
        "id": "hAljKrbhZ3Hk",
        "colab": {
          "base_uri": "https://localhost:8080/"
        },
        "outputId": "92931a6f-2c39-4ba4-9d22-af4c814da259"
      },
      "execution_count": null,
      "outputs": [
        {
          "output_type": "stream",
          "name": "stdout",
          "text": [
            "<class 'pandas.core.frame.DataFrame'>\n",
            "Int64Index: 1191 entries, 1 to 1191\n",
            "Data columns (total 15 columns):\n",
            " #   Column       Non-Null Count  Dtype  \n",
            "---  ------       --------------  -----  \n",
            " 0   YEAR         1191 non-null   int64  \n",
            " 1   MONTH        1191 non-null   object \n",
            " 2   CIRCUIT_NO   1191 non-null   object \n",
            " 3   APP_CODE     1191 non-null   object \n",
            " 4   REGION       1191 non-null   object \n",
            " 5   VILLAGE      1191 non-null   object \n",
            " 6   SUBDISTRICT  1191 non-null   object \n",
            " 7   DISTRICT     1183 non-null   object \n",
            " 8   PROVINCE     1191 non-null   object \n",
            " 9   AP_NAME      1191 non-null   object \n",
            " 10  IP_ADDRESS   1191 non-null   object \n",
            " 11  UPLOAD       1188 non-null   float64\n",
            " 12  DOWNLOAD     1187 non-null   float64\n",
            " 13  NUM_USERS    1187 non-null   float64\n",
            " 14  NUM_DEVICES  1187 non-null   float64\n",
            "dtypes: float64(4), int64(1), object(10)\n",
            "memory usage: 148.9+ KB\n"
          ]
        }
      ]
    },
    {
      "cell_type": "markdown",
      "source": [
        "Now, numeric columns are numeric."
      ],
      "metadata": {
        "id": "aRBTL2Aya_wE"
      }
    },
    {
      "cell_type": "code",
      "source": [
        "#หา column\n",
        "df.columns"
      ],
      "metadata": {
        "id": "74zp7dibZ33H",
        "colab": {
          "base_uri": "https://localhost:8080/"
        },
        "outputId": "af953dd7-3a16-4922-f752-9c746214f42b"
      },
      "execution_count": null,
      "outputs": [
        {
          "output_type": "execute_result",
          "data": {
            "text/plain": [
              "Index(['YEAR', 'MONTH', 'CIRCUIT_NO', 'APP_CODE', 'REGION', 'VILLAGE',\n",
              "       'SUBDISTRICT', 'DISTRICT', 'PROVINCE', 'AP_NAME', 'IP_ADDRESS',\n",
              "       'UPLOAD', 'DOWNLOAD', 'NUM_USERS', 'NUM_DEVICES'],\n",
              "      dtype='object')"
            ]
          },
          "metadata": {},
          "execution_count": 39
        }
      ]
    },
    {
      "cell_type": "markdown",
      "source": [
        "หา province = ช"
      ],
      "metadata": {
        "id": "OEGmkMuTbzue"
      }
    },
    {
      "cell_type": "code",
      "source": [
        "filtered_data = df[df['PROVINCE'].str.startswith('ช')]"
      ],
      "metadata": {
        "id": "G7-SfdLjbzP-"
      },
      "execution_count": null,
      "outputs": []
    },
    {
      "cell_type": "markdown",
      "source": [
        "หา usage ของ upload, download ของแต่ละจังหวัดที่ขึ้นต้นด้วย ช"
      ],
      "metadata": {
        "id": "8APSo8_MfFEG"
      }
    },
    {
      "cell_type": "code",
      "source": [
        "import pandas as pd\n",
        "import matplotlib.pyplot as plt\n",
        "\n",
        "\n",
        "\n",
        "grouped_data = filtered_data.groupby('PROVINCE')\n",
        "means_by_province = grouped_data[['UPLOAD', 'DOWNLOAD', 'NUM_USERS']].mean()\n",
        "sorted_means = means_by_province.sort_values(by='UPLOAD', ascending=False)\n",
        "\n",
        "for province, row in sorted_means.iterrows():\n",
        "    plt.figure(figsize=(8, 6))\n",
        "\n",
        "    plt.hist(filtered_data[filtered_data['PROVINCE'] == province]['UPLOAD'], bins=20, alpha=0.5, label='Upload Speed')\n",
        "    plt.hist(filtered_data[filtered_data['PROVINCE'] == province]['DOWNLOAD'], bins=20, alpha=0.5, label='Download Speed')\n",
        "\n",
        "    plt.xlabel('Speed')\n",
        "    plt.ylabel('Frequency')\n",
        "    plt.title(f'Upload and Download Speed Distribution for {province}')\n",
        "    plt.legend()\n",
        "\n",
        "    plt.show()"
      ],
      "metadata": {
        "colab": {
          "base_uri": "https://localhost:8080/",
          "height": 1000
        },
        "id": "ypEB8LGkevfW",
        "outputId": "20d3b5a6-25e6-45e3-f231-b0ba10c9731c"
      },
      "execution_count": null,
      "outputs": [
        {
          "output_type": "display_data",
          "data": {
            "text/plain": [
              "<Figure size 800x600 with 1 Axes>"
            ],
            "image/png": "[encoded data removed]"
          },
          "metadata": {}
        },
        {
          "output_type": "display_data",
          "data": {
            "text/plain": [
              "<Figure size 800x600 with 1 Axes>"
            ],
            "image/png": "[encoded data removed]"
          },
          "metadata": {}
        },
        {
          "output_type": "display_data",
          "data": {
            "text/plain": [
              "<Figure size 800x600 with 1 Axes>"
            ],
            "image/png": "[encoded data removed]"
          },
          "metadata": {}
        }
      ]
    },
    {
      "cell_type": "markdown",
      "source": [
        "เอาค่าเฉลี่ย user แต่ละจังหวัด กับ usage มาหา"
      ],
      "metadata": {
        "id": "_MKH17Grc7fv"
      }
    },
    {
      "cell_type": "code",
      "source": [
        "import pandas as pd\n",
        "\n",
        "\n",
        "filtered_data = df[df['PROVINCE'].str.startswith('ช')]\n",
        "\n",
        "\n",
        "upload_speed_mean = filtered_data['UPLOAD'].mean()\n",
        "download_speed_mean = filtered_data['DOWNLOAD'].mean()\n",
        "user_usage_mean = filtered_data['NUM_USERS'].mean()\n",
        "\n",
        "\n",
        "print(f\"Mean Upload Speed: {upload_speed_mean:.2f} Mbps\")\n",
        "print(f\"Mean Download Speed: {download_speed_mean:.2f} Mbps\")\n",
        "print(f\"Mean User Usage: {user_usage_mean:.2f}\")"
      ],
      "metadata": {
        "colab": {
          "base_uri": "https://localhost:8080/"
        },
        "id": "J8BEbqbndeoF",
        "outputId": "2d5bd486-e5fd-4b53-ec3f-21f796cdcb6a"
      },
      "execution_count": null,
      "outputs": [
        {
          "output_type": "stream",
          "name": "stdout",
          "text": [
            "Mean Upload Speed: 15799.28 Mbps\n",
            "Mean Download Speed: 254608.15 Mbps\n",
            "Mean User Usage: 1084.91\n"
          ]
        }
      ]
    },
    {
      "cell_type": "markdown",
      "source": [
        "ค่าเฉลี่ยแต่ละจังหวัด เห็นได้ว่า ชัยภูมิเยอะสุด"
      ],
      "metadata": {
        "id": "__5td2jbeQfO"
      }
    },
    {
      "cell_type": "code",
      "source": [
        "filtered_data = df[df['PROVINCE'].str.startswith('ช')]\n",
        "grouped_data = filtered_data.groupby('PROVINCE')\n",
        "means_by_province = grouped_data[['UPLOAD', 'DOWNLOAD', 'NUM_USERS']].mean()\n",
        "sorted_means = means_by_province.sort_values(by='UPLOAD', ascending=False)\n",
        "sorted_means.head()\n"
      ],
      "metadata": {
        "colab": {
          "base_uri": "https://localhost:8080/",
          "height": 175
        },
        "id": "rBY3BGj1eC9W",
        "outputId": "9c61a152-e66d-431e-e133-ffbf94615e5a"
      },
      "execution_count": null,
      "outputs": [
        {
          "output_type": "execute_result",
          "data": {
            "text/plain": [
              "                UPLOAD       DOWNLOAD    NUM_USERS\n",
              "PROVINCE                                          \n",
              "ชัยภูมิ   18961.839352  304997.555633  1272.756494\n",
              "ชัยนาท     7357.496911  121141.929138   598.945813\n",
              "ชลบุรี     6660.006923  102830.046385   428.807692"
            ],
            "text/html": [
              "\n",
              "  <div id=\"df-07eb5dbb-832a-4ea6-a8be-ba6e07e4baf5\" class=\"colab-df-container\">\n",
              "    <div>\n",
              "<style scoped>\n",
              "    .dataframe tbody tr th:only-of-type {\n",
              "        vertical-align: middle;\n",
              "    }\n",
              "\n",
              "    .dataframe tbody tr th {\n",
              "        vertical-align: top;\n",
              "    }\n",
              "\n",
              "    .dataframe thead th {\n",
              "        text-align: right;\n",
              "    }\n",
              "</style>\n",
              "<table border=\"1\" class=\"dataframe\">\n",
              "  <thead>\n",
              "    <tr style=\"text-align: right;\">\n",
              "      <th></th>\n",
              "      <th>UPLOAD</th>\n",
              "      <th>DOWNLOAD</th>\n",
              "      <th>NUM_USERS</th>\n",
              "    </tr>\n",
              "    <tr>\n",
              "      <th>PROVINCE</th>\n",
              "      <th></th>\n",
              "      <th></th>\n",
              "      <th></th>\n",
              "    </tr>\n",
              "  </thead>\n",
              "  <tbody>\n",
              "    <tr>\n",
              "      <th>ชัยภูมิ</th>\n",
              "      <td>18961.839352</td>\n",
              "      <td>304997.555633</td>\n",
              "      <td>1272.756494</td>\n",
              "    </tr>\n",
              "    <tr>\n",
              "      <th>ชัยนาท</th>\n",
              "      <td>7357.496911</td>\n",
              "      <td>121141.929138</td>\n",
              "      <td>598.945813</td>\n",
              "    </tr>\n",
              "    <tr>\n",
              "      <th>ชลบุรี</th>\n",
              "      <td>6660.006923</td>\n",
              "      <td>102830.046385</td>\n",
              "      <td>428.807692</td>\n",
              "    </tr>\n",
              "  </tbody>\n",
              "</table>\n",
              "</div>\n",
              "    <div class=\"colab-df-buttons\">\n",
              "\n",
              "  <div class=\"colab-df-container\">\n",
              "    <button class=\"colab-df-convert\" onclick=\"convertToInteractive('df-07eb5dbb-832a-4ea6-a8be-ba6e07e4baf5')\"\n",
              "            title=\"Convert this dataframe to an interactive table.\"\n",
              "            style=\"display:none;\">\n",
              "\n",
              "  <svg xmlns=\"http://www.w3.org/2000/svg\" height=\"24px\" viewBox=\"0 -960 960 960\">\n",
              "    <path d=\"M120-120v-720h720v720H120Zm60-500h600v-160H180v160Zm220 220h160v-160H400v160Zm0 220h160v-160H400v160ZM180-400h160v-160H180v160Zm440 0h160v-160H620v160ZM180-180h160v-160H180v160Zm440 0h160v-160H620v160Z\"/>\n",
              "  </svg>\n",
              "    </button>\n",
              "\n",
              "  <style>\n",
              "    .colab-df-container {\n",
              "      display:flex;\n",
              "      gap: 12px;\n",
              "    }\n",
              "\n",
              "    .colab-df-convert {\n",
              "      background-color: #E8F0FE;\n",
              "      border: none;\n",
              "      border-radius: 50%;\n",
              "      cursor: pointer;\n",
              "      display: none;\n",
              "      fill: #1967D2;\n",
              "      height: 32px;\n",
              "      padding: 0 0 0 0;\n",
              "      width: 32px;\n",
              "    }\n",
              "\n",
              "    .colab-df-convert:hover {\n",
              "      background-color: #E2EBFA;\n",
              "      box-shadow: 0px 1px 2px rgba(60, 64, 67, 0.3), 0px 1px 3px 1px rgba(60, 64, 67, 0.15);\n",
              "      fill: #174EA6;\n",
              "    }\n",
              "\n",
              "    .colab-df-buttons div {\n",
              "      margin-bottom: 4px;\n",
              "    }\n",
              "\n",
              "    [theme=dark] .colab-df-convert {\n",
              "      background-color: #3B4455;\n",
              "      fill: #D2E3FC;\n",
              "    }\n",
              "\n",
              "    [theme=dark] .colab-df-convert:hover {\n",
              "      background-color: #434B5C;\n",
              "      box-shadow: 0px 1px 3px 1px rgba(0, 0, 0, 0.15);\n",
              "      filter: drop-shadow(0px 1px 2px rgba(0, 0, 0, 0.3));\n",
              "      fill: #FFFFFF;\n",
              "    }\n",
              "  </style>\n",
              "\n",
              "    <script>\n",
              "      const buttonEl =\n",
              "        document.querySelector('#df-07eb5dbb-832a-4ea6-a8be-ba6e07e4baf5 button.colab-df-convert');\n",
              "      buttonEl.style.display =\n",
              "        google.colab.kernel.accessAllowed ? 'block' : 'none';\n",
              "\n",
              "      async function convertToInteractive(key) {\n",
              "        const element = document.querySelector('#df-07eb5dbb-832a-4ea6-a8be-ba6e07e4baf5');\n",
              "        const dataTable =\n",
              "          await google.colab.kernel.invokeFunction('convertToInteractive',\n",
              "                                                    [key], {});\n",
              "        if (!dataTable) return;\n",
              "\n",
              "        const docLinkHtml = 'Like what you see? Visit the ' +\n",
              "          '<a target=\"_blank\" href=https://colab.research.google.com/notebooks/data_table.ipynb>data table notebook</a>'\n",
              "          + ' to learn more about interactive tables.';\n",
              "        element.innerHTML = '';\n",
              "        dataTable['output_type'] = 'display_data';\n",
              "        await google.colab.output.renderOutput(dataTable, element);\n",
              "        const docLink = document.createElement('div');\n",
              "        docLink.innerHTML = docLinkHtml;\n",
              "        element.appendChild(docLink);\n",
              "      }\n",
              "    </script>\n",
              "  </div>\n",
              "\n",
              "    </div>\n",
              "  </div>\n"
            ]
          },
          "metadata": {},
          "execution_count": 43
        }
      ]
    },
    {
      "cell_type": "code",
      "source": [
        "plt.figure(figsize=(12, 8))\n",
        "\n",
        "plt.subplot(2, 1, 2)\n",
        "plt.bar(filtered_data['PROVINCE'], filtered_data['NUM_USERS'], color='blue', label='Number of Users')\n",
        "plt.xlabel('Province')\n",
        "plt.ylabel('จำนวน user')\n",
        "plt.title('Provinces Starting with \"ช\"')\n",
        "plt.xticks(rotation=45, ha='right')\n",
        "plt.legend()\n",
        "\n",
        "plt.tight_layout()\n",
        "plt.show()"
      ],
      "metadata": {
        "colab": {
          "base_uri": "https://localhost:8080/",
          "height": 447
        },
        "id": "iSldin5AcMcX",
        "outputId": "816540c6-02c6-4396-8697-0240ab3368ad"
      },
      "execution_count": null,
      "outputs": [
        {
          "output_type": "display_data",
          "data": {
            "text/plain": [
              "<Figure size 1200x800 with 1 Axes>"
            ],
            "image/png": "[encoded data removed]"
          },
          "metadata": {}
        }
      ]
    },
    {
      "cell_type": "code",
      "source": [
        "import matplotlib.pyplot as plt\n",
        "\n",
        "# Data\n",
        "provinces = sorted_means.index\n",
        "upload_speeds = sorted_means['UPLOAD']\n",
        "download_speeds = sorted_means['DOWNLOAD']\n",
        "\n",
        "# Set up positions for bars\n",
        "bar_width = 0.4\n",
        "index = range(len(provinces))\n",
        "\n",
        "# Create a bar chart\n",
        "plt.figure(figsize=(10, 6))\n",
        "plt.bar(index, upload_speeds, width=bar_width, label='Average Upload Speed', color='blue')\n",
        "plt.bar([i + bar_width for i in index], download_speeds, width=bar_width, label='Average Download Speed', color='orange')\n",
        "plt.xlabel('Provinces')\n",
        "plt.ylabel('Speed')\n",
        "plt.title('Average Upload and Download Speeds for Selected Provinces')\n",
        "plt.xticks([i + bar_width/2 for i in index], provinces, rotation=45)\n",
        "plt.legend()\n",
        "plt.tight_layout()\n",
        "\n",
        "# Show the plot\n",
        "plt.show()\n"
      ],
      "metadata": {
        "colab": {
          "base_uri": "https://localhost:8080/",
          "height": 607
        },
        "id": "VjSt-7LIRx43",
        "outputId": "4d61a13c-2794-4902-abd7-a943e47cd17e"
      },
      "execution_count": null,
      "outputs": [
        {
          "output_type": "display_data",
          "data": {
            "text/plain": [
              "<Figure size 1000x600 with 1 Axes>"
            ],
            "image/png": "[encoded data removed]"
          },
          "metadata": {}
        }
      ]
    },
    {
      "cell_type": "code",
      "source": [],
      "metadata": {
        "id": "2VGPozS9QVrP"
      },
      "execution_count": null,
      "outputs": []
    },
    {
      "cell_type": "markdown",
      "source": [
        "หาค่า mean median mode ของแต่ละจังหวัด"
      ],
      "metadata": {
        "id": "Msr13rGTKXUg"
      }
    },
    {
      "cell_type": "code",
      "source": [
        "import pandas as pd\n",
        "from scipy import stats\n",
        "\n",
        "\n",
        "filtered_df = df[df['PROVINCE'].str.startswith(\"ช\")]\n",
        "\n",
        "grouped_data = filtered_df.groupby('PROVINCE')[['UPLOAD', 'DOWNLOAD', 'NUM_USERS']].agg(\n",
        "    mean_upload=('UPLOAD', 'mean'),\n",
        "    median_upload=('UPLOAD', 'median'),\n",
        "    mode_upload=('UPLOAD', lambda x: stats.mode(x, keepdims=True)[0][0]),\n",
        "    mean_download=('DOWNLOAD', 'mean'),\n",
        "    median_download=('DOWNLOAD', 'median'),\n",
        "    mode_download=('DOWNLOAD', lambda x: stats.mode(x, keepdims=True)[0][0]),\n",
        "    mean_num_users=('NUM_USERS', 'mean'),\n",
        "    median_num_users=('NUM_USERS', 'median'),\n",
        "    mode_num_users=('NUM_USERS', lambda x: stats.mode(x, keepdims=True)[0][0])\n",
        ")\n",
        "\n",
        "sorted_data = grouped_data.sort_values(by='mean_upload', ascending=False)\n",
        "\n",
        "for province in sorted_data.index[:3]:\n",
        "    print(\"Province:\", province)\n",
        "    print(\"Upload:\")\n",
        "    print(\"Mean:\", sorted_data.loc[province, 'mean_upload'])\n",
        "    print(\"Median:\", sorted_data.loc[province, 'median_upload'])\n",
        "    print(\"Mode:\", sorted_data.loc[province, 'mode_upload'])\n",
        "    print()\n",
        "    print(\"Download:\")\n",
        "    print(\"Mean:\", sorted_data.loc[province, 'mean_download'])\n",
        "    print(\"Median:\", sorted_data.loc[province, 'median_download'])\n",
        "    print(\"Mode:\", sorted_data.loc[province, 'mode_download'])\n",
        "    print()\n",
        "    print(\"Number of Users:\")\n",
        "    print(\"Mean:\", sorted_data.loc[province, 'mean_num_users'])\n",
        "    print(\"Median:\", sorted_data.loc[province, 'median_num_users'])\n",
        "    print(\"Mode:\", sorted_data.loc[province, 'mode_num_users'])\n",
        "    print()\n",
        "    print(\"=\" * 30)\n"
      ],
      "metadata": {
        "colab": {
          "base_uri": "https://localhost:8080/"
        },
        "id": "wOlB4X9zJSHy",
        "outputId": "7607cee2-5f49-4492-e130-31d3bac1f6e6"
      },
      "execution_count": null,
      "outputs": [
        {
          "output_type": "stream",
          "name": "stdout",
          "text": [
            "Province: ชัยภูมิ\n",
            "Upload:\n",
            "Mean: 18961.839351701783\n",
            "Median: 16682.73\n",
            "Mode: 0.0\n",
            "\n",
            "Download:\n",
            "Mean: 304997.5556331169\n",
            "Median: 279745.43\n",
            "Mode: nan\n",
            "\n",
            "Number of Users:\n",
            "Mean: 1272.7564935064936\n",
            "Median: 1176.5\n",
            "Mode: 758.0\n",
            "\n",
            "==============================\n",
            "Province: ชัยนาท\n",
            "Upload:\n",
            "Mean: 7357.4969113300485\n",
            "Median: 4963.44\n",
            "Mode: 0.0\n",
            "\n",
            "Download:\n",
            "Mean: 121141.92913793103\n",
            "Median: 88496.31\n",
            "Mode: 0.0\n",
            "\n",
            "Number of Users:\n",
            "Mean: 598.9458128078818\n",
            "Median: 509.0\n",
            "Mode: 337.0\n",
            "\n",
            "==============================\n",
            "Province: ชลบุรี\n",
            "Upload:\n",
            "Mean: 6660.006923076923\n",
            "Median: 3444.36\n",
            "Mode: 40.924\n",
            "\n",
            "Download:\n",
            "Mean: 102830.04638461539\n",
            "Median: 74266.62\n",
            "Mode: 39.17\n",
            "\n",
            "Number of Users:\n",
            "Mean: 428.8076923076923\n",
            "Median: 332.5\n",
            "Mode: 361.0\n",
            "\n",
            "==============================\n"
          ]
        }
      ]
    },
    {
      "cell_type": "code",
      "source": [
        "upload_speeds = filtered_df.groupby('PROVINCE')['UPLOAD'].mean()\n",
        "\n",
        "std_deviation = upload_speeds.std()\n",
        "variance = upload_speeds.var()\n",
        "data_range = upload_speeds.max() - upload_speeds.min()\n",
        "\n",
        "print(\"Standard Deviation:\", std_deviation)\n",
        "print(\"Variance:\", variance)\n",
        "print(\"Range:\", data_range)\n"
      ],
      "metadata": {
        "colab": {
          "base_uri": "https://localhost:8080/"
        },
        "id": "GtDfhRXBMgTH",
        "outputId": "cd453e42-23a4-466d-95f3-11a8ca02bc82"
      },
      "execution_count": null,
      "outputs": [
        {
          "output_type": "stream",
          "name": "stdout",
          "text": [
            "Standard Deviation: 6909.924467255922\n",
            "Variance: 47747056.14318203\n",
            "Range: 12301.83242862486\n"
          ]
        }
      ]
    },
    {
      "cell_type": "code",
      "source": [
        "#หา outliers?\n",
        "#Are there relationships amongst features?\n"
      ],
      "metadata": {
        "id": "bFSJo50JTl5o"
      },
      "execution_count": null,
      "outputs": []
    },
    {
      "cell_type": "code",
      "source": [
        "# outliner\n",
        "\n",
        "\n",
        "# Load your DataFrame\n",
        "df = pd.read_csv('internetpracharat2.csv', index_col='ID')\n",
        "\n",
        "# Convert columns to numeric type (if needed)\n",
        "df['UPLOAD'] = pd.to_numeric(df['UPLOAD'], errors='coerce')\n",
        "df['DOWNLOAD'] = pd.to_numeric(df['DOWNLOAD'], errors='coerce')\n",
        "\n",
        "# Drop rows with missing values in UPLOAD or DOWNLOAD columns\n",
        "df_cleaned = df.dropna(subset=['UPLOAD', 'DOWNLOAD'])\n",
        "\n",
        "# Calculate IQR and bounds for UPLOAD\n",
        "Q1_upload = df_cleaned['UPLOAD'].quantile(0.25)\n",
        "Q3_upload = df_cleaned['UPLOAD'].quantile(0.75)\n",
        "IQR_upload = Q3_upload - Q1_upload\n",
        "lower_bound_upload = Q1_upload - 1.5 * IQR_upload\n",
        "upper_bound_upload = Q3_upload + 1.5 * IQR_upload\n",
        "\n",
        "# Identify outliers in UPLOAD\n",
        "outliers_upload = df_cleaned[(df_cleaned['UPLOAD'] < lower_bound_upload) | (df_cleaned['UPLOAD'] > upper_bound_upload)]\n",
        "\n",
        "# Calculate IQR and bounds for DOWNLOAD\n",
        "Q1_download = df_cleaned['DOWNLOAD'].quantile(0.25)\n",
        "Q3_download = df_cleaned['DOWNLOAD'].quantile(0.75)\n",
        "IQR_download = Q3_download - Q1_download\n",
        "lower_bound_download = Q1_download - 1.5 * IQR_download\n",
        "upper_bound_download = Q3_download + 1.5 * IQR_download\n",
        "\n",
        "# Identify outliers in DOWNLOAD\n",
        "outliers_download = df_cleaned[(df_cleaned['DOWNLOAD'] < lower_bound_download) | (df_cleaned['DOWNLOAD'] > upper_bound_download)]\n",
        "\n",
        "\n",
        "print(\"Outliers in UPLOAD:\")\n",
        "print(outliers_upload)\n",
        "\n",
        "print(\"\\nOutliers in DOWNLOAD:\")\n",
        "print(outliers_download)\n",
        "# Create plots\n",
        "plt.figure(figsize=(10, 6))\n",
        "\n",
        "# Plot UPLOAD outliers\n",
        "plt.subplot(1, 2, 1)\n",
        "plt.boxplot(df_cleaned['UPLOAD'])\n",
        "plt.title('UPLOAD Outliers')\n",
        "\n",
        "# Plot DOWNLOAD outliers\n",
        "plt.subplot(1, 2, 2)\n",
        "plt.boxplot(df_cleaned['DOWNLOAD'])\n",
        "plt.title('DOWNLOAD Outliers')\n",
        "\n",
        "plt.tight_layout()\n",
        "plt.show()"
      ],
      "metadata": {
        "id": "RrHZxGTxXMvI",
        "outputId": "fe183db6-bfa5-4f05-ed21-ca0696337218",
        "colab": {
          "base_uri": "https://localhost:8080/",
          "height": 1000
        }
      },
      "execution_count": null,
      "outputs": [
        {
          "output_type": "stream",
          "name": "stdout",
          "text": [
            "Outliers in UPLOAD:\n",
            "     YEAR    MONTH CIRCUIT_NO  APP_CODE REGION             VILLAGE  \\\n",
            "ID                                                                   \n",
            "22   2564  กรกฎาคม  3823d9000  SR768517    ภ.5  หมู่ 1 ทุ่งคาเหนือ   \n",
            "194  2564  กรกฎาคม  3831d9004  SR669379    ภ.5       หมู่ 8 หินกอง   \n",
            "\n",
            "    SUBDISTRICT  DISTRICT PROVINCE       AP_NAME     IP_ADDRESS   UPLOAD  \\\n",
            "ID                                                                         \n",
            "22     ห้วยใหญ่  บางละมุง   ชลบุรี  PTY-SR768517   172.19.44.74  100.569   \n",
            "194     หนองขาม   ศรีราชา   ชลบุรี  PTY-SR669379  172.19.44.154  109.281   \n",
            "\n",
            "     DOWNLOAD NUM_USERS  NUM_DEVICES  \n",
            "ID                                    \n",
            "22     39.170        57          8.0  \n",
            "194   585.312        17         12.0  \n",
            "\n",
            "Outliers in DOWNLOAD:\n",
            "     YEAR    MONTH CIRCUIT_NO  APP_CODE REGION           VILLAGE SUBDISTRICT  \\\n",
            "ID                                                                             \n",
            "194  2564  กรกฎาคม  3831d9004  SR669379    ภ.5     หมู่ 8 หินกอง     หนองขาม   \n",
            "320  2564  กรกฎาคม  5641d9267  SR711060    ภ.3   หมู่ 1 หนองขุ่น    หนองขุ่น   \n",
            "676  2564  กรกฎาคม  5641d9172  SR669468    ภ.3  หมู่ 10 ดอนสำราญ     ท่าฉนวน   \n",
            "\n",
            "     DISTRICT PROVINCE       AP_NAME     IP_ADDRESS   UPLOAD  DOWNLOAD  \\\n",
            "ID                                                                       \n",
            "194   ศรีราชา   ชลบุรี  PTY-SR669379  172.19.44.154  109.281   585.312   \n",
            "320  วัดสิงห์   ชัยนาท  CNT-SR711060  172.18.23.194   28.203   465.057   \n",
            "676   มโนรมย์   ชัยนาท  CNT-SR669468  172.18.22.218   91.355   886.205   \n",
            "\n",
            "    NUM_USERS  NUM_DEVICES  \n",
            "ID                          \n",
            "194        17         12.0  \n",
            "320        83         25.0  \n",
            "676       134         25.0  \n"
          ]
        },
        {
          "output_type": "display_data",
          "data": {
            "text/plain": [
              "<Figure size 1000x600 with 2 Axes>"
            ],
            "image/png": "[encoded data removed]"
          },
          "metadata": {}
        }
      ]
    },
    {
      "cell_type": "code",
      "source": [
        "\n",
        "# Load your DataFrame\n",
        "df = pd.read_csv('internetpracharat2.csv', index_col='ID')\n",
        "\n",
        "# Convert columns to numeric type and handle missing values\n",
        "numeric_columns = ['UPLOAD', 'DOWNLOAD']\n",
        "df[numeric_columns] = df[numeric_columns].apply(pd.to_numeric, errors='coerce')\n",
        "df_cleaned = df.dropna(subset=numeric_columns)\n",
        "\n",
        "# Calculate IQR and bounds for UPLOAD\n",
        "Q1_upload = df_cleaned['UPLOAD'].quantile(0.25)\n",
        "Q3_upload = df_cleaned['UPLOAD'].quantile(0.75)\n",
        "IQR_upload = Q3_upload - Q1_upload\n",
        "lower_bound_upload = Q1_upload - 1.5 * IQR_upload\n",
        "upper_bound_upload = Q3_upload + 1.5 * IQR_upload\n",
        "\n",
        "# Identify outliers in UPLOAD\n",
        "outliers_upload = df_cleaned[(df_cleaned['UPLOAD'] < lower_bound_upload) | (df_cleaned['UPLOAD'] > upper_bound_upload)]\n",
        "\n",
        "# Calculate IQR and bounds for DOWNLOAD\n",
        "Q1_download = df_cleaned['DOWNLOAD'].quantile(0.25)\n",
        "Q3_download = df_cleaned['DOWNLOAD'].quantile(0.75)\n",
        "IQR_download = Q3_download - Q1_download\n",
        "lower_bound_download = Q1_download - 1.5 * IQR_download\n",
        "upper_bound_download = Q3_download + 1.5 * IQR_download\n",
        "\n",
        "# Identify outliers in DOWNLOAD\n",
        "outliers_download = df_cleaned[(df_cleaned['DOWNLOAD'] < lower_bound_download) | (df_cleaned['DOWNLOAD'] > upper_bound_download)]\n",
        "\n",
        "# Display outliers\n",
        "print(\"Outliers in UPLOAD:\")\n",
        "print(outliers_upload)\n",
        "\n",
        "print(\"\\nOutliers in DOWNLOAD:\")\n",
        "print(outliers_download)\n"
      ],
      "metadata": {
        "id": "sQFsTt7rXy1G",
        "outputId": "61e43a5c-a50a-4d09-9d5b-09e967ecaf58",
        "colab": {
          "base_uri": "https://localhost:8080/"
        }
      },
      "execution_count": null,
      "outputs": [
        {
          "output_type": "stream",
          "name": "stdout",
          "text": [
            "Outliers in UPLOAD:\n",
            "     YEAR    MONTH CIRCUIT_NO  APP_CODE REGION             VILLAGE  \\\n",
            "ID                                                                   \n",
            "22   2564  กรกฎาคม  3823d9000  SR768517    ภ.5  หมู่ 1 ทุ่งคาเหนือ   \n",
            "194  2564  กรกฎาคม  3831d9004  SR669379    ภ.5       หมู่ 8 หินกอง   \n",
            "\n",
            "    SUBDISTRICT  DISTRICT PROVINCE       AP_NAME     IP_ADDRESS   UPLOAD  \\\n",
            "ID                                                                         \n",
            "22     ห้วยใหญ่  บางละมุง   ชลบุรี  PTY-SR768517   172.19.44.74  100.569   \n",
            "194     หนองขาม   ศรีราชา   ชลบุรี  PTY-SR669379  172.19.44.154  109.281   \n",
            "\n",
            "     DOWNLOAD NUM_USERS  NUM_DEVICES  \n",
            "ID                                    \n",
            "22     39.170        57          8.0  \n",
            "194   585.312        17         12.0  \n",
            "\n",
            "Outliers in DOWNLOAD:\n",
            "     YEAR    MONTH CIRCUIT_NO  APP_CODE REGION           VILLAGE SUBDISTRICT  \\\n",
            "ID                                                                             \n",
            "194  2564  กรกฎาคม  3831d9004  SR669379    ภ.5     หมู่ 8 หินกอง     หนองขาม   \n",
            "320  2564  กรกฎาคม  5641d9267  SR711060    ภ.3   หมู่ 1 หนองขุ่น    หนองขุ่น   \n",
            "676  2564  กรกฎาคม  5641d9172  SR669468    ภ.3  หมู่ 10 ดอนสำราญ     ท่าฉนวน   \n",
            "\n",
            "     DISTRICT PROVINCE       AP_NAME     IP_ADDRESS   UPLOAD  DOWNLOAD  \\\n",
            "ID                                                                       \n",
            "194   ศรีราชา   ชลบุรี  PTY-SR669379  172.19.44.154  109.281   585.312   \n",
            "320  วัดสิงห์   ชัยนาท  CNT-SR711060  172.18.23.194   28.203   465.057   \n",
            "676   มโนรมย์   ชัยนาท  CNT-SR669468  172.18.22.218   91.355   886.205   \n",
            "\n",
            "    NUM_USERS  NUM_DEVICES  \n",
            "ID                          \n",
            "194        17         12.0  \n",
            "320        83         25.0  \n",
            "676       134         25.0  \n"
          ]
        }
      ]
    },
    {
      "cell_type": "code",
      "source": [
        "import geopandas as gpd\n",
        "import matplotlib.pyplot as plt\n",
        "import pandas as pd\n",
        "\n",
        "# Load the GeoJSON file with province geometries and names\n",
        "thailand_with_names = gpd.read_file(\"thailandWithName.json\")\n",
        "\n",
        "# Mapping of province names from DataFrame to GeoJSON names\n",
        "province_mapping = {\n",
        "    \"ชลบุรี\": \"Chon Buri\",\n",
        "    \"ชัยภูมิ\": \"Chaiyaphum\",\n",
        "    \"ชัยนาท\": \"Chai Nat\"\n",
        "}\n",
        "\n",
        "# Filter data for specific provinces\n",
        "filtered_data = df[df['PROVINCE'].isin(province_mapping.keys())]\n",
        "\n",
        "# Group data by province and calculate means\n",
        "grouped_data = filtered_data.groupby('PROVINCE')[['UPLOAD', 'DOWNLOAD', 'NUM_USERS']].mean()\n",
        "\n",
        "# Reset index to move 'PROVINCE' from index to a regular column\n",
        "grouped_data = grouped_data.reset_index()\n",
        "\n",
        "# Map province names from DataFrame to GeoJSON names\n",
        "grouped_data['PROVINCE'] = grouped_data['PROVINCE'].map(province_mapping)\n",
        "\n",
        "# Merge the GeoDataFrame with province geometries and the grouped data\n",
        "merged_data = thailand_with_names.merge(grouped_data, left_on='name', right_on='PROVINCE')\n",
        "\n",
        "# Create a figure and axis\n",
        "fig, ax = plt.subplots(1, 1, figsize=(12, 8))\n",
        "\n",
        "# Plot the map with color-coded data\n",
        "merged_data.plot(column='UPLOAD', cmap='OrRd', linewidth=0.8, ax=ax, edgecolor='0.8', legend=True)\n",
        "\n",
        "# Set plot title\n",
        "ax.set_title('Mean Upload Internet Usage by Province')\n",
        "\n",
        "# Remove axis\n",
        "ax.set_axis_off()\n",
        "\n",
        "# Show the map\n",
        "plt.show()\n"
      ],
      "metadata": {
        "colab": {
          "base_uri": "https://localhost:8080/",
          "height": 726
        },
        "id": "_RQ6t7emmf8w",
        "outputId": "2ced3e9d-2211-4a4f-d5b0-0e38b2f92d08"
      },
      "execution_count": null,
      "outputs": [
        {
          "output_type": "stream",
          "name": "stderr",
          "text": [
            "<ipython-input-21-be9255b38546>:19: FutureWarning: The default value of numeric_only in DataFrameGroupBy.mean is deprecated. In a future version, numeric_only will default to False. Either specify numeric_only or select only columns which should be valid for the function.\n",
            "  grouped_data = filtered_data.groupby('PROVINCE')[['UPLOAD', 'DOWNLOAD', 'NUM_USERS']].mean()\n"
          ]
        },
        {
          "output_type": "display_data",
          "data": {
            "text/plain": [
              "<Figure size 1200x800 with 2 Axes>"
            ],
            "image/png": "[encoded data removed]"
          },
          "metadata": {}
        }
      ]
    },
    {
      "cell_type": "code",
      "source": [
        "import numpy as np\n",
        "import geopandas as gpd\n",
        "import matplotlib.pyplot as plt\n",
        "import pandas as pd\n",
        "from matplotlib.colors import Normalize, LinearSegmentedColormap\n",
        "from matplotlib.patches import Patch\n",
        "\n",
        "# Load the GeoJSON file with province geometries and names\n",
        "thailand_with_names = gpd.read_file(\"thailandWithName.json\")\n",
        "\n",
        "# Mapping of province names from DataFrame to GeoJSON names\n",
        "province_mapping = {\n",
        "    \"ชลบุรี\": \"Chon Buri\",\n",
        "    \"ชัยภูมิ\": \"Chaiyaphum\",\n",
        "    \"ชัยนาท\": \"Chai Nat\"\n",
        "}\n",
        "\n",
        "# Filter data for specific provinces\n",
        "filtered_data = df[df['PROVINCE'].str.startswith('ช')]\n",
        "grouped_data = filtered_data.groupby('PROVINCE')\n",
        "means_by_province = grouped_data[['UPLOAD', 'DOWNLOAD', 'NUM_USERS']].mean()\n",
        "sorted_means = means_by_province.sort_values(by='UPLOAD', ascending=False)\n",
        "\n",
        "# Normalize data for color mapping\n",
        "norm = Normalize(vmin=sorted_means['UPLOAD'].min(), vmax=sorted_means['UPLOAD'].max())\n",
        "\n",
        "# Create a custom colormap from red to green using Gaussian distribution\n",
        "\n",
        "cmap = LinearSegmentedColormap.from_list(\"custom_colormap\", [\n",
        "     (0.5, 0.5, 0.5),\n",
        "     #(0.0, 1.0, 0.0),\n",
        "     (1.0, 0.0, 0.0),  # Red\n",
        "\n",
        "], N=256)\n",
        "cmap = plt.cm.get_cmap(cmap)\n",
        "\n",
        "# Reproject geometries to an appropriate projected CRS\n",
        "thailand_with_names = thailand_with_names.to_crs(epsg=3395)\n",
        "\n",
        "# Create a figure and axis\n",
        "fig, ax = plt.subplots(1, 2, figsize=(12, 9))\n",
        "\n",
        "# Plot the map with color-coded data\n",
        "thailand_with_names.plot(ax=ax[0], color='lightgray')\n",
        "legend_elements = []\n",
        "for idx, row in sorted_means.iterrows():\n",
        "    province_name = province_mapping.get(idx)\n",
        "    province_geom = thailand_with_names[thailand_with_names['name'] == province_name]\n",
        "    color = cmap(norm(row['UPLOAD']))\n",
        "    province_geom.plot(ax=ax[0], color=color, linewidth=0.8, edgecolor='0.8', legend=True)\n",
        "\n",
        "    # Annotate the province with its name (white text)\n",
        "    centroid = province_geom.geometry.centroid\n",
        "    ax[0].annotate(text=idx, xy=(centroid.x, centroid.y), color='white', fontsize=10,\n",
        "                   ha='center', va='center', weight='bold')  # Adjust font weight if needed\n",
        "\n",
        "    # Create legend elements\n",
        "    legend_elements.append(Patch(facecolor=color, edgecolor='0.8', label=idx))\n",
        "\n",
        "# Create colorbar and position it\n",
        "sm = plt.cm.ScalarMappable(cmap=cmap, norm=norm)\n",
        "sm.set_array([])\n",
        "cbar = plt.colorbar(sm, ax=ax[0], orientation=\"horizontal\")\n",
        "cbar.set_label(\"ค่าเฉลี่ยของจำนวณผู้ใช้งานและความเร็ว\")\n",
        "\n",
        "# Set plot title\n",
        "ax[0].set_title('Internet usage Province start with \"ช\"')\n",
        "\n",
        "# Remove axis\n",
        "ax[0].set_axis_off()\n",
        "\n",
        "# Create a legend on the right side\n",
        "legend = ax[0].legend(handles=legend_elements, loc='center left', bbox_to_anchor=(1, 0.5))\n",
        "\n",
        "# Plot the bar graph for mean values\n",
        "sorted_means.plot(kind='bar', y='UPLOAD', ax=ax[1], legend=None)\n",
        "ax[1].set_xlabel('')\n",
        "ax[1].set_title('การใช้งาน')\n",
        "\n",
        "# Show the plots\n",
        "plt.tight_layout()\n",
        "plt.show()\n"
      ],
      "metadata": {
        "colab": {
          "base_uri": "https://localhost:8080/",
          "height": 999
        },
        "id": "09rVk9O1HVjf",
        "outputId": "4a459415-6271-45a2-bcf9-c19087b7cc55"
      },
      "execution_count": null,
      "outputs": [
        {
          "output_type": "stream",
          "name": "stderr",
          "text": [
            "<ipython-input-22-4098dfa78c60>:21: FutureWarning: The default value of numeric_only in DataFrameGroupBy.mean is deprecated. In a future version, numeric_only will default to False. Either specify numeric_only or select only columns which should be valid for the function.\n",
            "  means_by_province = grouped_data[['UPLOAD', 'DOWNLOAD', 'NUM_USERS']].mean()\n",
            "<ipython-input-22-4098dfa78c60>:35: MatplotlibDeprecationWarning: The get_cmap function was deprecated in Matplotlib 3.7 and will be removed two minor releases later. Use ``matplotlib.colormaps[name]`` or ``matplotlib.colormaps.get_cmap(obj)`` instead.\n",
            "  cmap = plt.cm.get_cmap(cmap)\n"
          ]
        },
        {
          "output_type": "display_data",
          "data": {
            "text/plain": [
              "<Figure size 1200x900 with 3 Axes>"
            ],
            "image/png": "[encoded data removed]"
          },
          "metadata": {}
        }
      ]
    },
    {
      "cell_type": "code",
      "source": [],
      "metadata": {
        "id": "YbM-dZQCiGDI"
      },
      "execution_count": null,
      "outputs": []
    },
    {
      "cell_type": "code",
      "source": [
        "fig, ax = plt.subplots(1,2, figsize=(15,5))\n",
        "df[df['PROVINCE'] == 'ชัยภูมิ'].groupby('DISTRICT').first()['NUM_USERS'].plot.barh(ax=ax[0]).set_xlabel('จำนวนผู้ใช้งาน')\n",
        "df[df['PROVINCE'] == 'ชัยภูมิ'].groupby('DISTRICT').first()['NUM_DEVICES'].plot.barh(ax=ax[1]).set_xlabel('จำนวนอุปกรณ์')"
      ],
      "metadata": {
        "id": "r6GBl-6GgjEC",
        "outputId": "05f739ac-4ec7-4da4-ff20-1c41d5bb6571",
        "colab": {
          "base_uri": "https://localhost:8080/",
          "height": 480
        }
      },
      "execution_count": null,
      "outputs": [
        {
          "output_type": "execute_result",
          "data": {
            "text/plain": [
              "Text(0.5, 0, 'จำนวนอุปกรณ์')"
            ]
          },
          "metadata": {},
          "execution_count": 46
        },
        {
          "output_type": "display_data",
          "data": {
            "text/plain": [
              "<Figure size 1500x500 with 2 Axes>"
            ],
            "image/png": "[encoded data removed]"
          },
          "metadata": {}
        }
      ]
    }
  ]
}