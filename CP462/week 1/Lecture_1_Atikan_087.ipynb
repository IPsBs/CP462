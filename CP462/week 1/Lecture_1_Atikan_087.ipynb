{
  "cells": [
    {
      "cell_type": "markdown",
      "metadata": {
        "id": "3owAaniSdJlo"
      },
      "source": [
        "# Lecture 1: Data Processing with NumPy\n",
        "\n",
        "Numerical Python, or \"Numpy\" for short, is a foundational package on which many of the most common data science packages are built.  Numpy provides us with high performance multi-dimensional arrays which we can use as vectors or matrices.  \n",
        "\n",
        "The key features of numpy are:\n",
        "\n",
        "- ndarrays: n-dimensional arrays of the same data type which are fast and space-efficient.  There are a number of built-in methods for ndarrays which allow for rapid processing of data without using loops (e.g., compute the mean).\n",
        "- Broadcasting: a useful tool which defines implicit behavior between multi-dimensional arrays of different sizes.\n",
        "- Vectorization: enables numeric operations on ndarrays.\n",
        "- Input/Output: simplifies reading and writing of data from/to file.\n",
        "\n",
        "<b>Additional Recommended Resources:</b><br>\n",
        "[Numpy Documentation](https://numpy.org/doc/stable/reference/)\n",
        "\n",
        "[Python for Data Analysis](https://wesmckinney.com/book/) by Wes McKinney\n",
        "\n",
        "[Python Data science Handbook](https://jakevdp.github.io/PythonDataScienceHandbook/) by Jake VanderPlas\n",
        "\n"
      ]
    },
    {
      "cell_type": "markdown",
      "metadata": {
        "id": "7g4VbUFXdJlq"
      },
      "source": [
        "## Getting started with ndarray\n",
        "\n",
        "**ndarrays** are time and space-efficient multidimensional arrays at the core of numpy.  Let's get started by creating ndarrays using the numpy package."
      ]
    },
    {
      "cell_type": "markdown",
      "metadata": {
        "id": "yJ2ZsIcudJlr"
      },
      "source": [
        "**How to create Rank 1 numpy arrays:**"
      ]
    },
    {
      "cell_type": "code",
      "execution_count": null,
      "metadata": {
        "id": "AcfUoIMVdJlr",
        "colab": {
          "base_uri": "https://localhost:8080/"
        },
        "outputId": "b99a62f7-2622-439d-e26d-54ece016655b"
      },
      "outputs": [
        {
          "output_type": "stream",
          "name": "stdout",
          "text": [
            "<class 'numpy.ndarray'>\n"
          ]
        }
      ],
      "source": [
        "import numpy as np\n",
        "\n",
        "an_array = np.array([3, 33, 333])  # Create a rank 1 array\n",
        "\n",
        "print(type(an_array))              # The type of an ndarray is: \"<class 'numpy.ndarray'>\""
      ]
    },
    {
      "cell_type": "code",
      "execution_count": null,
      "metadata": {
        "id": "0WecejZTdJlw",
        "colab": {
          "base_uri": "https://localhost:8080/"
        },
        "outputId": "7d9f4221-ad3e-48f7-f893-05acc341d99c"
      },
      "outputs": [
        {
          "output_type": "execute_result",
          "data": {
            "text/plain": [
              "(3,)"
            ]
          },
          "metadata": {},
          "execution_count": 2
        }
      ],
      "source": [
        "# test the shape of the array we just created, it should have just one dimension (Rank 1)\n",
        "an_array.shape"
      ]
    },
    {
      "cell_type": "code",
      "execution_count": null,
      "metadata": {
        "id": "QGiyai7ndJlz",
        "colab": {
          "base_uri": "https://localhost:8080/"
        },
        "outputId": "2019092a-8994-4901-abc8-210e54948355"
      },
      "outputs": [
        {
          "output_type": "stream",
          "name": "stdout",
          "text": [
            "3 33 333\n"
          ]
        }
      ],
      "source": [
        "# because this is a 1-rank array, we need only one index to accesss each element\n",
        "print(an_array[0], an_array[1], an_array[2])"
      ]
    },
    {
      "cell_type": "code",
      "execution_count": null,
      "metadata": {
        "id": "XHkwJT5ydJl2",
        "colab": {
          "base_uri": "https://localhost:8080/"
        },
        "outputId": "5ee5c8b7-d095-4a82-a93a-145c560d8dbd"
      },
      "outputs": [
        {
          "output_type": "stream",
          "name": "stdout",
          "text": [
            "original array [  3  33 333]\n",
            "mutable array [  3  69 333]\n"
          ]
        }
      ],
      "source": [
        "# ndarrays are mutable, here we change an element of the array\n",
        "an_array = np.array([3, 33, 333])  # Create a rank 1 array\n",
        "\n",
        "print(\"original array\",an_array)\n",
        "an_array[1] = 69\n",
        "\n",
        "print(\"mutable array\",an_array)"
      ]
    },
    {
      "cell_type": "markdown",
      "metadata": {
        "id": "GJL2OiPKdJl6"
      },
      "source": [
        "**How to create a Rank 2 numpy array:**\n",
        "\n",
        "A rank 2 **ndarray** is one with two dimensions.  Notice the format below of [ [row] , [row] ].  2 dimensional arrays are great for representing matrices which are often useful in data science."
      ]
    },
    {
      "cell_type": "code",
      "execution_count": null,
      "metadata": {
        "id": "x_JqXzSYdJl6",
        "colab": {
          "base_uri": "https://localhost:8080/"
        },
        "outputId": "2616bba1-cb10-40d4-b129-62074355f79d"
      },
      "outputs": [
        {
          "output_type": "stream",
          "name": "stdout",
          "text": [
            "[[11 12 13]\n",
            " [21 22 23]]\n",
            "The shape is 2 rows, 3 columns:  (2, 3)\n",
            "Accessing elements [0,0], [0,1], and [1,0] of the ndarray:  11 ,  12 ,  21\n"
          ]
        }
      ],
      "source": [
        "another = np.array([[11,12,13],[21,22,23]])   # Create a rank 2 array\n",
        "\n",
        "print(another)  # print the array\n",
        "\n",
        "print(\"The shape is 2 rows, 3 columns: \", another.shape)  # rows x columns\n",
        "\n",
        "print(\"Accessing elements [0,0], [0,1], and [1,0] of the ndarray: \", another[0, 0], \", \",another[0, 1],\", \", another[1, 0])"
      ]
    },
    {
      "cell_type": "markdown",
      "metadata": {
        "id": "HO1wIUCZdJl9"
      },
      "source": [
        "**There are many way to create numpy arrays:**\n",
        "\n",
        "Here we create a number of different size arrays with different shapes and different pre-filled values.  numpy has a number of built in methods which help us quickly and easily create multidimensional arrays."
      ]
    },
    {
      "cell_type": "code",
      "execution_count": null,
      "metadata": {
        "id": "rFtn4ShYdJl9",
        "colab": {
          "base_uri": "https://localhost:8080/"
        },
        "outputId": "76d26bcf-2f60-4b74-e05c-449ec90926f0"
      },
      "outputs": [
        {
          "output_type": "stream",
          "name": "stdout",
          "text": [
            "[[0. 0.]\n",
            " [0. 0.]]\n"
          ]
        }
      ],
      "source": [
        "import numpy as np\n",
        "\n",
        "# create a 2x2 array of zeros\n",
        "ex1=np.zeros((2,2)) #สร้าง 2 มิติทีมีเลข 0\n",
        "print(ex1)"
      ]
    },
    {
      "cell_type": "code",
      "execution_count": null,
      "metadata": {
        "id": "JfUSAb9NdJmA",
        "colab": {
          "base_uri": "https://localhost:8080/"
        },
        "outputId": "77c103c0-f923-443c-e428-029ee280c802"
      },
      "outputs": [
        {
          "output_type": "execute_result",
          "data": {
            "text/plain": [
              "array([[9., 9.],\n",
              "       [9., 9.]])"
            ]
          },
          "metadata": {},
          "execution_count": 7
        }
      ],
      "source": [
        "# create a 2x2 array filled with 9.0 #เติมค่านึงไปใน array\n",
        "ex2 = np.full((2,2), 9.0) #บอกมิติเป็น 2x2 เติมค่า 9.0\n",
        "ex2"
      ]
    },
    {
      "cell_type": "code",
      "execution_count": null,
      "metadata": {
        "id": "MY3YNMyjdJmD",
        "colab": {
          "base_uri": "https://localhost:8080/"
        },
        "outputId": "e1eef1b3-c585-4daf-c3e4-b2524faccd42"
      },
      "outputs": [
        {
          "output_type": "execute_result",
          "data": {
            "text/plain": [
              "array([[1., 0.],\n",
              "       [0., 1.]])"
            ]
          },
          "metadata": {},
          "execution_count": 8
        }
      ],
      "source": [
        "# create a 2x2 matrix with the diagonal 1s and the others 0 (identity matrix)\n",
        "ex3 = np.eye(2,2) #เมทริกซ์เอกลักษณ์ มี 0 ไปหมดแต่ตรงที่เป็นมุมทแยงเป็นเลข 1\n",
        "ex3"
      ]
    },
    {
      "cell_type": "code",
      "execution_count": null,
      "metadata": {
        "id": "6a5j2kEYdJmF",
        "colab": {
          "base_uri": "https://localhost:8080/"
        },
        "outputId": "14654ac9-9b91-4f92-f006-294ef0948768"
      },
      "outputs": [
        {
          "output_type": "execute_result",
          "data": {
            "text/plain": [
              "array([[1., 1.]])"
            ]
          },
          "metadata": {},
          "execution_count": 9
        }
      ],
      "source": [
        "# create an array of ones\n",
        "ex4 = np.ones((1,2)) #1 dimention 1 row 2 column\n",
        "ex4"
      ]
    },
    {
      "cell_type": "code",
      "execution_count": null,
      "metadata": {
        "id": "Zfg4qGs3dJmJ",
        "colab": {
          "base_uri": "https://localhost:8080/"
        },
        "outputId": "45e53f73-1f01-4b18-f64c-b28681ff2dd9"
      },
      "outputs": [
        {
          "output_type": "stream",
          "name": "stdout",
          "text": [
            "(1, 2)\n"
          ]
        },
        {
          "output_type": "execute_result",
          "data": {
            "text/plain": [
              "1.0"
            ]
          },
          "metadata": {},
          "execution_count": 10
        }
      ],
      "source": [
        "# notice that the above ndarray (ex4) is actually rank 2, it is a 2x1 array\n",
        "print(ex4.shape)\n",
        "\n",
        "# which means we need to use two indexes to access an element\n",
        "ex4[0,1] #แม้ว่าจะมี row เดียวแต่ต้อง access 2 ค่า เพราะเป็น 2 bits"
      ]
    },
    {
      "cell_type": "code",
      "execution_count": null,
      "metadata": {
        "id": "y_UpCGQ7dJmM",
        "colab": {
          "base_uri": "https://localhost:8080/"
        },
        "outputId": "e65df4f8-1b77-4cfa-cc2d-b732d9d08358"
      },
      "outputs": [
        {
          "output_type": "execute_result",
          "data": {
            "text/plain": [
              "array([[0.86792717, 0.78688557],\n",
              "       [0.07389271, 0.43929835]])"
            ]
          },
          "metadata": {},
          "execution_count": 11
        }
      ],
      "source": [
        "# create an array of random floats between 0 and 1\n",
        "ex5 = np.random.random((2,2))\n",
        "ex5"
      ]
    },
    {
      "cell_type": "markdown",
      "metadata": {
        "id": "3lDHC-6ddJmP"
      },
      "source": [
        "## Array Indexing"
      ]
    },
    {
      "cell_type": "markdown",
      "metadata": {
        "id": "e5EBz1q8dJmP"
      },
      "source": [
        "**Slice indexing:**\n",
        "\n",
        "Similar to the use of slice indexing with lists and strings, we can use slice indexing to pull out sub-regions of ndarrays."
      ]
    },
    {
      "cell_type": "code",
      "execution_count": null,
      "metadata": {
        "id": "jWMxG5pidJmQ",
        "colab": {
          "base_uri": "https://localhost:8080/"
        },
        "outputId": "1f80b6ab-d66d-4b2b-8b4c-c5cc436968a2"
      },
      "outputs": [
        {
          "output_type": "execute_result",
          "data": {
            "text/plain": [
              "array([[11, 12, 13, 14],\n",
              "       [21, 22, 23, 24],\n",
              "       [31, 32, 33, 34]])"
            ]
          },
          "metadata": {},
          "execution_count": 4
        }
      ],
      "source": [
        "import numpy as np\n",
        "\n",
        "# Rank 2 array of shape (3, 4)\n",
        "an_array = np.array([[11,12,13,14], [21,22,23,24], [31,32,33,34]])\n",
        "an_array"
      ]
    },
    {
      "cell_type": "markdown",
      "metadata": {
        "id": "wmQ8zCRIdJmS"
      },
      "source": [
        "Use array slicing to get a subarray consisting of the first 2 rows x 2 columns."
      ]
    },
    {
      "cell_type": "code",
      "execution_count": null,
      "metadata": {
        "id": "TzwfLIqZdJmT",
        "colab": {
          "base_uri": "https://localhost:8080/"
        },
        "outputId": "2e7224d6-c3c0-4295-eb91-e6a07e72c27b"
      },
      "outputs": [
        {
          "output_type": "execute_result",
          "data": {
            "text/plain": [
              "array([[12, 13],\n",
              "       [22, 23]])"
            ]
          },
          "metadata": {},
          "execution_count": 5
        }
      ],
      "source": [
        "a_slice = an_array[0:2,1:3] #row 0,1 ไม่เอา 2 column 1,2 ไม่เอา 3\n",
        "a_slice"
      ]
    },
    {
      "cell_type": "markdown",
      "metadata": {
        "id": "fTa7fOkUdJmV"
      },
      "source": [
        "When you modify a slice, you actually modify the underlying array."
      ]
    },
    {
      "cell_type": "code",
      "execution_count": null,
      "metadata": {
        "id": "VC9Du1zDdJmW",
        "colab": {
          "base_uri": "https://localhost:8080/"
        },
        "outputId": "a81575f0-d87e-4ebf-e645-10e3d6e47b23"
      },
      "outputs": [
        {
          "output_type": "stream",
          "name": "stdout",
          "text": [
            "Before: 12\n",
            "After: 1000\n"
          ]
        }
      ],
      "source": [
        "print(\"Before:\", an_array[0, 1])   #inspect the element at 0, 1\n",
        "a_slice[0, 0] = 1000    # a_slice[0, 0] is the same piece of data as an_array[0, 1] ตำแหน่ง [0,0] ใน a_slice เหมือน ตำแหน่ง [0,1] ใน an_array เปลี่ยนจาก 12 เป็น 1000\n",
        "print(\"After:\", an_array[0, 1])"
      ]
    },
    {
      "cell_type": "markdown",
      "metadata": {
        "id": "PUsTakWCdJma"
      },
      "source": [
        "**Use both integer indexing & slice indexing**\n",
        "\n",
        "We can use combinations of integer indexing and slice indexing to create different shaped matrices."
      ]
    },
    {
      "cell_type": "code",
      "execution_count": null,
      "metadata": {
        "id": "E_ZdOcsAdJma",
        "colab": {
          "base_uri": "https://localhost:8080/"
        },
        "outputId": "7cb3a254-b233-4ce8-c519-c70df87d4b03"
      },
      "outputs": [
        {
          "output_type": "execute_result",
          "data": {
            "text/plain": [
              "array([[11, 12, 13, 14],\n",
              "       [21, 22, 23, 24],\n",
              "       [31, 32, 33, 34]])"
            ]
          },
          "metadata": {},
          "execution_count": 6
        }
      ],
      "source": [
        "# Create a Rank 2 array of shape (3, 4)\n",
        "an_array = np.array([[11,12,13,14], [21,22,23,24], [31,32,33,34]])\n",
        "an_array"
      ]
    },
    {
      "cell_type": "code",
      "execution_count": null,
      "metadata": {
        "id": "76Ewd8cOdJmc",
        "colab": {
          "base_uri": "https://localhost:8080/"
        },
        "outputId": "118be7c1-7cb9-431a-ca34-b1b39cc16415"
      },
      "outputs": [
        {
          "output_type": "stream",
          "name": "stdout",
          "text": [
            "[21 22 23 24] (4,)\n"
          ]
        }
      ],
      "source": [
        "# Using both integer indexing & slicing generates an array of lower rank // slice ให้เหลือ 1D\n",
        "    # Rank 1 view\n",
        "row_rank1 = an_array[1,:]    # Rank 1 view // เอา row 1 และเอาทุก column // ถ้าใส่ [1:2,:] จะนับว่าเป็น 2D อยู่ output = [[]] 2 bracket shape ออกมา 2 ค่า\n",
        "print(row_rank1, row_rank1.shape)  # notice only a single [] // จะเหลือค่าเดียว"
      ]
    },
    {
      "cell_type": "code",
      "execution_count": null,
      "metadata": {
        "id": "fyO_-t4_dJmf",
        "colab": {
          "base_uri": "https://localhost:8080/"
        },
        "outputId": "95774497-632c-4f3f-cdfb-e7d3bae185d4"
      },
      "outputs": [
        {
          "output_type": "stream",
          "name": "stdout",
          "text": [
            "[[12 13]\n",
            " [22 23]] (2, 2)\n"
          ]
        }
      ],
      "source": [
        "# Slicing alone: generates an array of the same rank as the an_array\n",
        " # Rank 2 view\n",
        "row_rank2 = an_array[:2, 1:3]\n",
        "print(row_rank2, row_rank2.shape)   # Notice the [[ ]]"
      ]
    },
    {
      "cell_type": "code",
      "execution_count": null,
      "metadata": {
        "id": "dTHxJ0JkdJmi",
        "colab": {
          "base_uri": "https://localhost:8080/"
        },
        "outputId": "93bf66c9-8847-4467-90f9-9b10c71e343b"
      },
      "outputs": [
        {
          "output_type": "stream",
          "name": "stdout",
          "text": [
            "[12 22 32] (3,)\n",
            "\n",
            "[[12]\n",
            " [22]\n",
            " [32]] (3, 1)\n"
          ]
        }
      ],
      "source": [
        "#We can do the same thing for columns of an array:\n",
        "\n",
        "col_rank1 = an_array[:, 1] #1D\n",
        "col_rank2 = an_array[:, 1:2] #2D\n",
        "\n",
        "print(col_rank1, col_rank1.shape)  # Rank 1 1 ค่า\n",
        "print()\n",
        "print(col_rank2, col_rank2.shape)  # Rank 2 2 ค่า"
      ]
    },
    {
      "cell_type": "markdown",
      "metadata": {
        "id": "xEDHFQpAdJmk"
      },
      "source": [
        "**Array Indexing for changing elements**"
      ]
    },
    {
      "cell_type": "markdown",
      "metadata": {
        "id": "Ia6y1tEidJml"
      },
      "source": [
        "Sometimes it's useful to use an array of indexes to access or change elements."
      ]
    },
    {
      "cell_type": "code",
      "execution_count": null,
      "metadata": {
        "id": "v1L-lUU3dJml",
        "colab": {
          "base_uri": "https://localhost:8080/"
        },
        "outputId": "091d10a4-c16b-4239-fef5-1a1cc2604a27"
      },
      "outputs": [
        {
          "output_type": "stream",
          "name": "stdout",
          "text": [
            "Original Array:\n",
            "[[11 12 13]\n",
            " [21 22 23]\n",
            " [31 32 33]\n",
            " [41 42 43]]\n"
          ]
        }
      ],
      "source": [
        "# Create a new array\n",
        "an_array = np.array([[11,12,13], [21,22,23], [31,32,33], [41,42,43]])\n",
        "\n",
        "print('Original Array:')\n",
        "print(an_array)"
      ]
    },
    {
      "cell_type": "code",
      "execution_count": null,
      "metadata": {
        "id": "Te5pb14fdJmn",
        "colab": {
          "base_uri": "https://localhost:8080/"
        },
        "outputId": "a0ea5d24-6ffa-4758-ea90-9af1e4ab7c21"
      },
      "outputs": [
        {
          "output_type": "stream",
          "name": "stdout",
          "text": [
            "\n",
            "Col indices picked :  [0 1 2 0]\n",
            "\n",
            "Rows indices picked :  [0 1 2 3]\n"
          ]
        }
      ],
      "source": [
        "# Create an array of indices\n",
        "col_indices = np.array([0, 1, 2, 0]) #เข้าถึง column 0 1 2 0 = 11 22 33 41\n",
        "print('\\nCol indices picked : ', col_indices)\n",
        "\n",
        "row_indices = np.arange(4) # เข้าถึง row ที่ 0,1,2,3 arange เป็น method เข้าถึง row\n",
        "print('\\nRows indices picked : ', row_indices)\n",
        "#output คือ index ที่เราต้องการเลือกออกมา"
      ]
    },
    {
      "cell_type": "code",
      "execution_count": null,
      "metadata": {
        "id": "SYJ-G2vSdJmr",
        "colab": {
          "base_uri": "https://localhost:8080/"
        },
        "outputId": "7dc5212d-54da-428f-cb2e-bd22c95bb10b"
      },
      "outputs": [
        {
          "output_type": "stream",
          "name": "stdout",
          "text": [
            "0 ,  0\n",
            "1 ,  1\n",
            "2 ,  2\n",
            "3 ,  0\n"
          ]
        }
      ],
      "source": [
        "# Examine the pairings of row_indices and col_indices.  These are the elements we'll change next.\n",
        "for row,col in zip(row_indices,col_indices): # ใช้คำสั่ง zip คือการรวม row and col ให้ output ออกมาเป็นคู่ๆ\n",
        "    print(row, \", \",col) #this is not numpy"
      ]
    },
    {
      "cell_type": "code",
      "execution_count": null,
      "metadata": {
        "id": "5Wo4XThFdJmt",
        "colab": {
          "base_uri": "https://localhost:8080/"
        },
        "outputId": "e374a2e8-fcb4-4327-e75c-0ecfef1dea6a"
      },
      "outputs": [
        {
          "output_type": "stream",
          "name": "stdout",
          "text": [
            "Values in the array at those indices:  [11 22 33 41]\n"
          ]
        }
      ],
      "source": [
        "# Select one element from each row // ไม่ต้องมา loop เหมือนข้างบน np สามารถบอก row col ที่ต้องการได้เลย\n",
        "print('Values in the array at those indices: ',an_array[row_indices, col_indices])"
      ]
    },
    {
      "cell_type": "code",
      "execution_count": null,
      "metadata": {
        "id": "P-bWEhJfdJmv",
        "colab": {
          "base_uri": "https://localhost:8080/"
        },
        "outputId": "157c0bd4-3727-4e0e-f68e-e787720e2eef"
      },
      "outputs": [
        {
          "output_type": "stream",
          "name": "stdout",
          "text": [
            "\n",
            "Changed Array:\n",
            "[[1011   12   13]\n",
            " [  21 1022   23]\n",
            " [  31   32 1033]\n",
            " [1041   42   43]]\n"
          ]
        }
      ],
      "source": [
        "# Change one element from each row using the indices selected\n",
        "an_array[row_indices, col_indices] += 1000 #บวกค่าไป 1000 ตาม row col ที่เราเลือกไว้\n",
        "print('\\nChanged Array:')\n",
        "print(an_array)"
      ]
    },
    {
      "cell_type": "markdown",
      "metadata": {
        "id": "6PuM7n7ldJmy"
      },
      "source": [
        "## Boolean Indexing\n",
        "\n",
        "**Array Indexing for changing elements:**"
      ]
    },
    {
      "cell_type": "code",
      "execution_count": null,
      "metadata": {
        "id": "loxHTBK7dJmy",
        "colab": {
          "base_uri": "https://localhost:8080/"
        },
        "outputId": "08cfa2e2-ae36-4cd1-a3d3-a00e3a4a98ff"
      },
      "outputs": [
        {
          "output_type": "execute_result",
          "data": {
            "text/plain": [
              "array([[11, 12],\n",
              "       [21, 22],\n",
              "       [31, 32]])"
            ]
          },
          "metadata": {},
          "execution_count": 14
        }
      ],
      "source": [
        "# create a 3x2 array\n",
        "an_array = np.array([[11,12], [21, 22], [31, 32]])\n",
        "an_array"
      ]
    },
    {
      "cell_type": "code",
      "execution_count": null,
      "metadata": {
        "id": "PW9Zb0sHdJm1",
        "colab": {
          "base_uri": "https://localhost:8080/"
        },
        "outputId": "599bc26c-85e4-4e96-d001-0db88c03a9b4"
      },
      "outputs": [
        {
          "output_type": "execute_result",
          "data": {
            "text/plain": [
              "array([[False, False],\n",
              "       [ True,  True],\n",
              "       [ True,  True]])"
            ]
          },
          "metadata": {},
          "execution_count": 16
        }
      ],
      "source": [
        "# create a filter which will be boolean values for whether each element meets this condition\n",
        "filter = (an_array > 15) #เอาตัวใน array ว่า > 15 ไหม้ ถ้ามากกว่า = T น้อยกว่า = F\n",
        "filter"
      ]
    },
    {
      "cell_type": "markdown",
      "metadata": {
        "id": "NhH6gFR1dJm4"
      },
      "source": [
        "Notice that the filter is a same size ndarray as an_array which is filled with True for each element whose corresponding element in an_array which is greater than 15 and False for those elements whose value is less than 15."
      ]
    },
    {
      "cell_type": "code",
      "execution_count": null,
      "metadata": {
        "id": "l7k-5ULhdJm4",
        "colab": {
          "base_uri": "https://localhost:8080/"
        },
        "outputId": "8812c253-28c8-414a-97da-9369e0a7b81e"
      },
      "outputs": [
        {
          "output_type": "execute_result",
          "data": {
            "text/plain": [
              "array([21, 22, 31, 32])"
            ]
          },
          "metadata": {},
          "execution_count": 18
        }
      ],
      "source": [
        "# we can now select just those elements which meet that criteria\n",
        "an_array[filter] #ทำ 2 step รวมกับก่อนหน้า\n",
        "# Since a boolean mask can have different number of True in each row or column, the indexing can't preserve shape - it has to return a 1d result."
      ]
    },
    {
      "cell_type": "code",
      "execution_count": null,
      "metadata": {
        "id": "h0W-qVkadJm7",
        "colab": {
          "base_uri": "https://localhost:8080/"
        },
        "outputId": "10d76f9b-f824-4a22-f750-7c35e81955b3"
      },
      "outputs": [
        {
          "output_type": "execute_result",
          "data": {
            "text/plain": [
              "array([21, 22, 31, 32])"
            ]
          },
          "metadata": {},
          "execution_count": 19
        }
      ],
      "source": [
        "# For short, we could have just used the approach below without the need for the separate filter array.\n",
        "an_array[an_array > 15] # ทำทีเดียว"
      ]
    },
    {
      "cell_type": "markdown",
      "metadata": {
        "id": "KN6FxSlydJm9"
      },
      "source": [
        "What is particularly useful is that we can actually change elements in the array applying a similar logical filter.  Let's add 100 to all the even values."
      ]
    },
    {
      "cell_type": "code",
      "execution_count": null,
      "metadata": {
        "id": "P9twnPbyPAPo",
        "colab": {
          "base_uri": "https://localhost:8080/"
        },
        "outputId": "466104ef-6cea-4391-80c5-ba14d5dc70c2"
      },
      "outputs": [
        {
          "output_type": "execute_result",
          "data": {
            "text/plain": [
              "array([12, 22, 32])"
            ]
          },
          "metadata": {},
          "execution_count": 20
        }
      ],
      "source": [
        "an_array[an_array % 2 == 0] #เลือกเฉพาะเลขคู่ เป็น 1D เพราะเป็น view ของมันไม่ใช่ตัวเดิม"
      ]
    },
    {
      "cell_type": "code",
      "execution_count": null,
      "metadata": {
        "id": "DyvhTmZLdJm-",
        "colab": {
          "base_uri": "https://localhost:8080/"
        },
        "outputId": "511f4c6c-b7e6-424b-96cd-9978a8fc1b82"
      },
      "outputs": [
        {
          "output_type": "execute_result",
          "data": {
            "text/plain": [
              "array([[ 11, 112],\n",
              "       [ 21, 122],\n",
              "       [ 31, 132]])"
            ]
          },
          "metadata": {},
          "execution_count": 21
        }
      ],
      "source": [
        "an_array[an_array % 2 == 0] +=100\n",
        "an_array # เป็น 2D เพราะเป็นการแก้ array ตัวเดิมที่เป็น 2D"
      ]
    },
    {
      "cell_type": "markdown",
      "metadata": {
        "id": "wheuGUgmdJnB"
      },
      "source": [
        "## Datatypes and Array Operations"
      ]
    },
    {
      "cell_type": "markdown",
      "metadata": {
        "id": "y6Oi4qT7dJnB"
      },
      "source": [
        "**Datatypes:**"
      ]
    },
    {
      "cell_type": "code",
      "execution_count": null,
      "metadata": {
        "id": "0d7hPKw2dJnC",
        "colab": {
          "base_uri": "https://localhost:8080/"
        },
        "outputId": "2b830628-2da5-4362-e694-7589fc182cd4"
      },
      "outputs": [
        {
          "output_type": "execute_result",
          "data": {
            "text/plain": [
              "dtype('int64')"
            ]
          },
          "metadata": {},
          "execution_count": 22
        }
      ],
      "source": [
        "ex1 = np.array([11, 12]) # Python assigns the data type\n",
        "ex1.dtype"
      ]
    },
    {
      "cell_type": "code",
      "execution_count": null,
      "metadata": {
        "id": "1MgHWk6FdJnE",
        "colab": {
          "base_uri": "https://localhost:8080/"
        },
        "outputId": "c1b82509-d793-45ba-915a-11cabad1cf1e"
      },
      "outputs": [
        {
          "output_type": "execute_result",
          "data": {
            "text/plain": [
              "dtype('float64')"
            ]
          },
          "metadata": {},
          "execution_count": 23
        }
      ],
      "source": [
        "ex2 = np.array([11.0, 12.0]) # Python assigns the data type\n",
        "ex2.dtype"
      ]
    },
    {
      "cell_type": "code",
      "execution_count": null,
      "metadata": {
        "id": "-NFVGbOIdJnG",
        "colab": {
          "base_uri": "https://localhost:8080/"
        },
        "outputId": "81b79f62-37ab-4084-942e-06198e8f1670"
      },
      "outputs": [
        {
          "output_type": "execute_result",
          "data": {
            "text/plain": [
              "dtype('int64')"
            ]
          },
          "metadata": {},
          "execution_count": 26
        }
      ],
      "source": [
        "ex3 = np.array([11, 21], dtype=np.int64) #You can also tell Python the data type\n",
        "ex3.dtype #บังคับให้เป็น int"
      ]
    },
    {
      "cell_type": "code",
      "execution_count": null,
      "metadata": {
        "id": "Oajc4id4dJnI",
        "colab": {
          "base_uri": "https://localhost:8080/"
        },
        "outputId": "fbf43be3-eb78-412b-dbe6-b460eb4e50c5"
      },
      "outputs": [
        {
          "output_type": "stream",
          "name": "stdout",
          "text": [
            "int64\n",
            "\n"
          ]
        },
        {
          "output_type": "execute_result",
          "data": {
            "text/plain": [
              "array([11, 12])"
            ]
          },
          "metadata": {},
          "execution_count": 27
        }
      ],
      "source": [
        "# you can use this to force floats into integers (using floor function)\n",
        "ex4 = np.array([11.1,12.7], dtype=np.int64)\n",
        "print(ex4.dtype)\n",
        "print() #ไม่สามารถบังคับ floats to int ได้มันจะตัดทศนิยมออก\n",
        "ex4"
      ]
    },
    {
      "cell_type": "code",
      "execution_count": null,
      "metadata": {
        "id": "kaWZq1EMdJnL",
        "colab": {
          "base_uri": "https://localhost:8080/"
        },
        "outputId": "2d9406d8-b15d-4200-a58f-774f3bbf0dfe"
      },
      "outputs": [
        {
          "output_type": "stream",
          "name": "stdout",
          "text": [
            "float64\n",
            "\n"
          ]
        },
        {
          "output_type": "execute_result",
          "data": {
            "text/plain": [
              "array([11., 21.])"
            ]
          },
          "metadata": {},
          "execution_count": 28
        }
      ],
      "source": [
        "# you can use this to force integers into floats if you anticipate\n",
        "# the values may change to floats later\n",
        "ex5 = np.array([11, 21], dtype=np.float64)\n",
        "print(ex5.dtype)\n",
        "print()\n",
        "ex5"
      ]
    },
    {
      "cell_type": "markdown",
      "metadata": {
        "id": "tuVG1OXpdJnO"
      },
      "source": [
        "**Arithmetic Array Operations:**"
      ]
    },
    {
      "cell_type": "code",
      "execution_count": null,
      "metadata": {
        "id": "CWE4lX-odJnP",
        "colab": {
          "base_uri": "https://localhost:8080/"
        },
        "outputId": "8cc7df5b-5b49-4cff-871b-1fa8b0665e1b"
      },
      "outputs": [
        {
          "output_type": "stream",
          "name": "stdout",
          "text": [
            "[[111 112]\n",
            " [121 122]]\n",
            "\n",
            "[[211.1 212.1]\n",
            " [221.1 222.1]]\n"
          ]
        }
      ],
      "source": [
        "x = np.array([[111,112],[121,122]], dtype=np.int64)\n",
        "y = np.array([[211.1,212.1],[221.1,222.1]], dtype=np.float64)\n",
        "\n",
        "print(x)\n",
        "print()\n",
        "print(y)"
      ]
    },
    {
      "cell_type": "code",
      "execution_count": null,
      "metadata": {
        "id": "n4otFepZdJnR",
        "colab": {
          "base_uri": "https://localhost:8080/"
        },
        "outputId": "4e094428-a71e-4d74-c77c-e6cfa4ee8b72"
      },
      "outputs": [
        {
          "output_type": "stream",
          "name": "stdout",
          "text": [
            "[[322.1 324.1]\n",
            " [342.1 344.1]]\n",
            "\n",
            "[[322.1 324.1]\n",
            " [342.1 344.1]]\n"
          ]
        }
      ],
      "source": [
        "# add\n",
        "print(x + y)         # The plus sign works\n",
        "print() # บวกตรงๆได้\n",
        "print(np.add(x, y))  # so does the numpy function \"add\""
      ]
    },
    {
      "cell_type": "code",
      "execution_count": null,
      "metadata": {
        "id": "E6whTEs-dJnT",
        "colab": {
          "base_uri": "https://localhost:8080/"
        },
        "outputId": "e0216b6a-b59c-41bf-8502-bac664ee46bc"
      },
      "outputs": [
        {
          "output_type": "stream",
          "name": "stdout",
          "text": [
            "[[-100.1 -100.1]\n",
            " [-100.1 -100.1]]\n",
            "\n",
            "[[-100.1 -100.1]\n",
            " [-100.1 -100.1]]\n"
          ]
        }
      ],
      "source": [
        "# subtract\n",
        "print(x - y)\n",
        "print()\n",
        "print(np.subtract(x, y))"
      ]
    },
    {
      "cell_type": "code",
      "execution_count": null,
      "metadata": {
        "id": "RDMP8rLddJnV",
        "colab": {
          "base_uri": "https://localhost:8080/"
        },
        "outputId": "3422d6b4-db26-4724-d5b1-5ebde068803e"
      },
      "outputs": [
        {
          "output_type": "stream",
          "name": "stdout",
          "text": [
            "[[23432.1 23755.2]\n",
            " [26753.1 27096.2]]\n",
            "\n",
            "[[23432.1 23755.2]\n",
            " [26753.1 27096.2]]\n"
          ]
        }
      ],
      "source": [
        "# multiply\n",
        "print(x * y)\n",
        "print()\n",
        "print(np.multiply(x, y))"
      ]
    },
    {
      "cell_type": "code",
      "execution_count": null,
      "metadata": {
        "id": "udvXRilmdJnY",
        "colab": {
          "base_uri": "https://localhost:8080/"
        },
        "outputId": "ae2edf01-2dcf-4119-b65f-7cbf1831db10"
      },
      "outputs": [
        {
          "output_type": "stream",
          "name": "stdout",
          "text": [
            "[[0.52581715 0.52805281]\n",
            " [0.54726368 0.54930212]]\n",
            "\n",
            "[[0.52581715 0.52805281]\n",
            " [0.54726368 0.54930212]]\n"
          ]
        }
      ],
      "source": [
        "# divide\n",
        "print(x / y)\n",
        "print()\n",
        "print(np.divide(x, y))"
      ]
    },
    {
      "cell_type": "code",
      "execution_count": null,
      "metadata": {
        "id": "lVWhZIP5dJnc",
        "colab": {
          "base_uri": "https://localhost:8080/"
        },
        "outputId": "097e2918-927a-42c2-d2c7-d533d5759a24"
      },
      "outputs": [
        {
          "output_type": "stream",
          "name": "stdout",
          "text": [
            "[[10.53565375 10.58300524]\n",
            " [11.         11.04536102]]\n"
          ]
        }
      ],
      "source": [
        "# square root\n",
        "print(np.sqrt(x))"
      ]
    },
    {
      "cell_type": "code",
      "execution_count": null,
      "metadata": {
        "id": "hJJtaZHcdJnh",
        "colab": {
          "base_uri": "https://localhost:8080/"
        },
        "outputId": "5595b711-4866-41a6-92f6-065b99850a25"
      },
      "outputs": [
        {
          "output_type": "stream",
          "name": "stdout",
          "text": [
            "[[1.60948707e+48 4.37503945e+48]\n",
            " [3.54513118e+52 9.63666567e+52]]\n"
          ]
        }
      ],
      "source": [
        "# exponent (e ** x)\n",
        "print(np.exp(x))"
      ]
    },
    {
      "cell_type": "markdown",
      "metadata": {
        "id": "KrHE7N4JdJnl"
      },
      "source": [
        "## Statistical Methods, Sorting, and Set Operations"
      ]
    },
    {
      "cell_type": "markdown",
      "metadata": {
        "id": "IR-hBpPYdJnl"
      },
      "source": [
        "**Basic Statistical Operations:**"
      ]
    },
    {
      "cell_type": "code",
      "execution_count": null,
      "metadata": {
        "id": "3SV_kCfRdJnm",
        "colab": {
          "base_uri": "https://localhost:8080/"
        },
        "outputId": "855902f2-02b2-4c38-c79d-e5a62eb36dfd"
      },
      "outputs": [
        {
          "output_type": "execute_result",
          "data": {
            "text/plain": [
              "array([[ -1.86109474,   2.73635014,   7.31612031, -16.33075584,\n",
              "         -5.17921322],\n",
              "       [  3.10857825,  -1.66686617,  -6.55336486,  -0.59138482,\n",
              "         -6.8585168 ]])"
            ]
          },
          "metadata": {},
          "execution_count": 42
        }
      ],
      "source": [
        "# setup a random 2 x 5 matrix\n",
        "arr = 10 * np.random.randn(2,5) #randn = randnormal 2 rows 5 col\n",
        "arr"
      ]
    },
    {
      "cell_type": "code",
      "execution_count": null,
      "metadata": {
        "id": "UOkblYLZdJnp",
        "colab": {
          "base_uri": "https://localhost:8080/"
        },
        "outputId": "9a5d525c-53fe-4928-bf1a-e748e618b723"
      },
      "outputs": [
        {
          "output_type": "execute_result",
          "data": {
            "text/plain": [
              "-2.5880147734122305"
            ]
          },
          "metadata": {},
          "execution_count": 43
        }
      ],
      "source": [
        "# compute the mean for all elements\n",
        "arr.mean()"
      ]
    },
    {
      "cell_type": "code",
      "execution_count": null,
      "metadata": {
        "id": "HKbROeLidJnt",
        "colab": {
          "base_uri": "https://localhost:8080/"
        },
        "outputId": "4d462e41-46f2-4094-899d-77649f5ffb01"
      },
      "outputs": [
        {
          "output_type": "execute_result",
          "data": {
            "text/plain": [
              "array([-2.66371867, -2.51231088])"
            ]
          },
          "metadata": {},
          "execution_count": 44
        }
      ],
      "source": [
        "# compute the means by row\n",
        "arr.mean(axis = 1) # หมายถึงทุก column ใน row เอามาคิด จะได้ row ใหม่"
      ]
    },
    {
      "cell_type": "code",
      "execution_count": null,
      "metadata": {
        "id": "uaiBpdcMdJnv",
        "colab": {
          "base_uri": "https://localhost:8080/"
        },
        "outputId": "9a423243-9a87-43fc-86a8-798617e9c7fe"
      },
      "outputs": [
        {
          "output_type": "execute_result",
          "data": {
            "text/plain": [
              "array([ 0.62374176,  0.53474198,  0.38137773, -8.46107033, -6.01886501])"
            ]
          },
          "metadata": {},
          "execution_count": 45
        }
      ],
      "source": [
        "# compute the means by column\n",
        "arr.mean(axis = 0)"
      ]
    },
    {
      "cell_type": "code",
      "execution_count": null,
      "metadata": {
        "id": "0l_qkR4VdJny",
        "colab": {
          "base_uri": "https://localhost:8080/"
        },
        "outputId": "46b87cb6-ff9e-47e9-f620-d092224b8b6e"
      },
      "outputs": [
        {
          "output_type": "execute_result",
          "data": {
            "text/plain": [
              "-40.18577362031842"
            ]
          },
          "metadata": {},
          "execution_count": 47
        }
      ],
      "source": [
        "# sum all the elements\n",
        "arr.sum()"
      ]
    },
    {
      "cell_type": "code",
      "execution_count": null,
      "metadata": {
        "id": "0QmeLFdZdJn1",
        "colab": {
          "base_uri": "https://localhost:8080/"
        },
        "outputId": "bb5c71a2-5907-4d1e-9c4a-4f95785eda8f"
      },
      "outputs": [
        {
          "output_type": "execute_result",
          "data": {
            "text/plain": [
              "array([-9.66457745, -0.26387344])"
            ]
          },
          "metadata": {},
          "execution_count": 48
        }
      ],
      "source": [
        "# compute the medians by rows\n",
        "np.median(arr,axis = 1 ) #ต้องบอกว่าหา array ตัวไหน และ axis อะไร"
      ]
    },
    {
      "cell_type": "markdown",
      "metadata": {
        "id": "llru91vBdJn4"
      },
      "source": [
        "**Sorting:**"
      ]
    },
    {
      "cell_type": "code",
      "execution_count": null,
      "metadata": {
        "id": "fRREQHAWdJn4",
        "colab": {
          "base_uri": "https://localhost:8080/"
        },
        "outputId": "d15b67e1-377b-4686-d664-3b050b0069ba"
      },
      "outputs": [
        {
          "output_type": "execute_result",
          "data": {
            "text/plain": [
              "array([ 1.3315865 ,  0.71527897, -1.54540029, -0.00838385,  0.62133597,\n",
              "       -0.72008556,  0.26551159,  0.10854853,  0.00429143, -0.17460021])"
            ]
          },
          "metadata": {},
          "execution_count": 46
        }
      ],
      "source": [
        "# create a 10 element array of randoms\n",
        "np.random.seed(10)\n",
        "unsorted = np.random.randn(10)\n",
        "\n",
        "unsorted"
      ]
    },
    {
      "cell_type": "code",
      "execution_count": null,
      "metadata": {
        "id": "qd0ufgzWdJn5",
        "colab": {
          "base_uri": "https://localhost:8080/"
        },
        "outputId": "01cc4314-c7ba-4b2c-ac83-bf5271d55f92"
      },
      "outputs": [
        {
          "output_type": "stream",
          "name": "stdout",
          "text": [
            "[-1.54540029 -0.72008556 -0.17460021 -0.00838385  0.00429143  0.10854853\n",
            "  0.26551159  0.62133597  0.71527897  1.3315865 ]\n",
            "\n",
            "[ 1.3315865   0.71527897 -1.54540029 -0.00838385  0.62133597 -0.72008556\n",
            "  0.26551159  0.10854853  0.00429143 -0.17460021]\n"
          ]
        }
      ],
      "source": [
        "# create copy and sort\n",
        "sorted = np.array(unsorted)\n",
        "# inplace sorting\n",
        "sorted.sort()\n",
        "\n",
        "print(sorted)\n",
        "print()\n",
        "print(unsorted)"
      ]
    },
    {
      "cell_type": "markdown",
      "metadata": {
        "id": "Zb24iK6xdJoB"
      },
      "source": [
        "**Finding Unique elements:**"
      ]
    },
    {
      "cell_type": "code",
      "execution_count": null,
      "metadata": {
        "id": "TbeNUv1cdJoC",
        "colab": {
          "base_uri": "https://localhost:8080/"
        },
        "outputId": "862e4012-3556-47f6-fd52-0eecd5d8fe82"
      },
      "outputs": [
        {
          "output_type": "stream",
          "name": "stdout",
          "text": [
            "[1 2 4]\n"
          ]
        }
      ],
      "source": [
        "array = np.array([1,2,1,4,2,1,4,2])\n",
        "\n",
        "print(np.unique(array)) #ตัวที่ซ้ำ"
      ]
    },
    {
      "cell_type": "markdown",
      "metadata": {
        "id": "B8RiL-ejdJoG"
      },
      "source": [
        "**Set Operations with np.array data type:**"
      ]
    },
    {
      "cell_type": "code",
      "execution_count": null,
      "metadata": {
        "id": "u-MWIya_dJoH",
        "colab": {
          "base_uri": "https://localhost:8080/"
        },
        "outputId": "9af7d7c4-0d03-41d3-d0e1-8bbdf694297d"
      },
      "outputs": [
        {
          "output_type": "stream",
          "name": "stdout",
          "text": [
            "['desk' 'chair' 'bulb'] ['lamp' 'bulb' 'chair']\n"
          ]
        }
      ],
      "source": [
        "s1 = np.array(['desk','chair','bulb'])\n",
        "s2 = np.array(['lamp','bulb','chair'])\n",
        "print(s1, s2)"
      ]
    },
    {
      "cell_type": "code",
      "execution_count": null,
      "metadata": {
        "id": "7_fvZj6BdJoK",
        "colab": {
          "base_uri": "https://localhost:8080/"
        },
        "outputId": "c2e6e449-2f08-4674-d6f1-972818f012d0"
      },
      "outputs": [
        {
          "output_type": "stream",
          "name": "stdout",
          "text": [
            "['bulb' 'chair']\n"
          ]
        }
      ],
      "source": [
        "print( np.intersect1d(s1, s2) )"
      ]
    },
    {
      "cell_type": "code",
      "execution_count": null,
      "metadata": {
        "id": "IuTNp5jYdJoP",
        "colab": {
          "base_uri": "https://localhost:8080/"
        },
        "outputId": "7f51701f-4e8d-4cee-8d46-01efe2deadeb"
      },
      "outputs": [
        {
          "output_type": "stream",
          "name": "stdout",
          "text": [
            "['bulb' 'chair' 'desk' 'lamp']\n"
          ]
        }
      ],
      "source": [
        "print( np.union1d(s1, s2) )"
      ]
    },
    {
      "cell_type": "code",
      "execution_count": null,
      "metadata": {
        "id": "2omAc4sQdJoR",
        "colab": {
          "base_uri": "https://localhost:8080/"
        },
        "outputId": "5f0e3c68-a6cb-4f80-8142-7f059d7718c6"
      },
      "outputs": [
        {
          "output_type": "stream",
          "name": "stdout",
          "text": [
            "['desk']\n"
          ]
        }
      ],
      "source": [
        "print( np.setdiff1d(s1, s2) ) # elements in s1 that are not in s2"
      ]
    },
    {
      "cell_type": "code",
      "execution_count": null,
      "metadata": {
        "id": "WVDeZIpfdJoT",
        "colab": {
          "base_uri": "https://localhost:8080/"
        },
        "outputId": "466fe4f1-93d0-4cbc-d441-08fe3f47efd0"
      },
      "outputs": [
        {
          "output_type": "stream",
          "name": "stdout",
          "text": [
            "[False  True  True]\n"
          ]
        }
      ],
      "source": [
        "print( np.in1d(s1, s2) ) #which element of s1 is also in s2"
      ]
    },
    {
      "cell_type": "markdown",
      "metadata": {
        "id": "G62Oh4fRdJoU"
      },
      "source": [
        "## Broadcasting"
      ]
    },
    {
      "cell_type": "markdown",
      "metadata": {
        "id": "WkTdHI-5dJoW"
      },
      "source": [
        "Introduction to broadcasting\n",
        "\n",
        "For more details, please see:\n",
        "\n",
        "https://numpy.org/devdocs/user/basics.broadcasting.html"
      ]
    },
    {
      "cell_type": "code",
      "execution_count": null,
      "metadata": {
        "id": "ioU2lwTsdJoW",
        "colab": {
          "base_uri": "https://localhost:8080/"
        },
        "outputId": "93828d41-6220-4054-8c55-8763ec45bca5"
      },
      "outputs": [
        {
          "output_type": "execute_result",
          "data": {
            "text/plain": [
              "array([[0., 0., 0.],\n",
              "       [0., 0., 0.],\n",
              "       [0., 0., 0.],\n",
              "       [0., 0., 0.]])"
            ]
          },
          "metadata": {},
          "execution_count": 55
        }
      ],
      "source": [
        "import numpy as np\n",
        "\n",
        "start = np.zeros((4,3))\n",
        "start"
      ]
    },
    {
      "cell_type": "code",
      "execution_count": null,
      "metadata": {
        "id": "VwfbTGd0dJoY",
        "colab": {
          "base_uri": "https://localhost:8080/"
        },
        "outputId": "3c7619e7-7147-4428-ef4f-a0e6c92cf05d"
      },
      "outputs": [
        {
          "output_type": "stream",
          "name": "stdout",
          "text": [
            "(3,)\n"
          ]
        },
        {
          "output_type": "execute_result",
          "data": {
            "text/plain": [
              "array([1, 0, 2])"
            ]
          },
          "metadata": {},
          "execution_count": 57
        }
      ],
      "source": [
        "# create a rank 1 ndarray with 3 values\n",
        "add_rows = np.array([1, 0, 2]) #1D มี 3 ค่า\n",
        "print(add_rows.shape)\n",
        "add_rows"
      ]
    },
    {
      "cell_type": "code",
      "execution_count": null,
      "metadata": {
        "id": "JhwwRme9dJoZ",
        "colab": {
          "base_uri": "https://localhost:8080/"
        },
        "outputId": "f137c32a-fd5d-442f-aec9-d396d79b86dd"
      },
      "outputs": [
        {
          "output_type": "execute_result",
          "data": {
            "text/plain": [
              "array([[1., 0., 2.],\n",
              "       [1., 0., 2.],\n",
              "       [1., 0., 2.],\n",
              "       [1., 0., 2.]])"
            ]
          },
          "metadata": {},
          "execution_count": 58
        }
      ],
      "source": [
        " # add to each row of 'start' using broadcasting\n",
        "y = start + add_rows\n",
        "y"
      ]
    },
    {
      "cell_type": "code",
      "execution_count": null,
      "metadata": {
        "id": "9yGZxHhhdJoc",
        "colab": {
          "base_uri": "https://localhost:8080/"
        },
        "outputId": "d6311138-9a07-48da-b0a3-0388fbeb3c5d"
      },
      "outputs": [
        {
          "output_type": "execute_result",
          "data": {
            "text/plain": [
              "array([[0],\n",
              "       [1],\n",
              "       [2],\n",
              "       [3]])"
            ]
          },
          "metadata": {},
          "execution_count": 60
        }
      ],
      "source": [
        "# create an ndarray which is 4 x 1 to broadcast across columns\n",
        "add_cols = np.array([[0,1,2,3]]) #2D\n",
        "add_cols = add_cols.T #T = Transpose swip row and col\n",
        "\n",
        "add_cols"
      ]
    },
    {
      "cell_type": "code",
      "execution_count": null,
      "metadata": {
        "id": "AeHlDMFEdJoe",
        "colab": {
          "base_uri": "https://localhost:8080/"
        },
        "outputId": "98fb4871-30da-48fb-a3d6-b1a29e691ee0"
      },
      "outputs": [
        {
          "output_type": "stream",
          "name": "stdout",
          "text": [
            "[[0. 0. 0.]\n",
            " [1. 1. 1.]\n",
            " [2. 2. 2.]\n",
            " [3. 3. 3.]]\n"
          ]
        }
      ],
      "source": [
        "# add to each column of 'start' using broadcasting\n",
        "y = start + add_cols #เอาจาก start(4x3) มา compat กับ add_col(4x1)\n",
        "print(y)"
      ]
    },
    {
      "cell_type": "code",
      "execution_count": null,
      "metadata": {
        "id": "3f0Vl3-JdJoh",
        "colab": {
          "base_uri": "https://localhost:8080/"
        },
        "outputId": "82d3f8cd-4b86-4464-9e60-ffb834bb9648"
      },
      "outputs": [
        {
          "output_type": "execute_result",
          "data": {
            "text/plain": [
              "array([[1., 1., 1.],\n",
              "       [1., 1., 1.],\n",
              "       [1., 1., 1.],\n",
              "       [1., 1., 1.]])"
            ]
          },
          "metadata": {},
          "execution_count": 63
        }
      ],
      "source": [
        "# this will just broadcast in both dimensions\n",
        "add_scalar = np.array([1])\n",
        "start + add_scalar"
      ]
    },
    {
      "cell_type": "markdown",
      "metadata": {
        "id": "TAVgUGU0dJoj"
      },
      "source": [
        "Example from the slides:"
      ]
    },
    {
      "cell_type": "code",
      "execution_count": null,
      "metadata": {
        "id": "Wqephw0xdJoj",
        "colab": {
          "base_uri": "https://localhost:8080/"
        },
        "outputId": "bb2a91fc-a7bb-468d-9cab-c45ccaf2d1ed"
      },
      "outputs": [
        {
          "output_type": "execute_result",
          "data": {
            "text/plain": [
              "array([[ 1,  2,  3,  4],\n",
              "       [ 5,  6,  7,  8],\n",
              "       [ 9, 10, 11, 12]])"
            ]
          },
          "metadata": {},
          "execution_count": 64
        }
      ],
      "source": [
        "# create our 3x4 matrix\n",
        "arrA = np.array([[1,2,3,4],[5,6,7,8],[9,10,11,12]])\n",
        "arrA"
      ]
    },
    {
      "cell_type": "code",
      "execution_count": null,
      "metadata": {
        "id": "_GtDtl28dJol",
        "colab": {
          "base_uri": "https://localhost:8080/"
        },
        "outputId": "b62eb7a8-e6de-4fbd-cec4-fae244c8f293"
      },
      "outputs": [
        {
          "output_type": "execute_result",
          "data": {
            "text/plain": [
              "array([0, 1, 0, 2])"
            ]
          },
          "metadata": {},
          "execution_count": 66
        }
      ],
      "source": [
        "# create our 1x4 array\n",
        "arrB = np.array([0,1,0,2])\n",
        "arrB"
      ]
    },
    {
      "cell_type": "code",
      "execution_count": null,
      "metadata": {
        "id": "aQow5iP6dJom",
        "colab": {
          "base_uri": "https://localhost:8080/"
        },
        "outputId": "334a9a89-791f-4a11-bd12-814907e2b00a"
      },
      "outputs": [
        {
          "output_type": "execute_result",
          "data": {
            "text/plain": [
              "array([[ 1,  3,  3,  6],\n",
              "       [ 5,  7,  7, 10],\n",
              "       [ 9, 11, 11, 14]])"
            ]
          },
          "metadata": {},
          "execution_count": 67
        }
      ],
      "source": [
        "# add the two together using broadcasting\n",
        "arrA + arrB"
      ]
    },
    {
      "cell_type": "markdown",
      "metadata": {
        "id": "_WqVi7T_dJoo"
      },
      "source": [
        "## Speedtest: ndarrays vs lists"
      ]
    },
    {
      "cell_type": "markdown",
      "metadata": {
        "id": "ua3MK6XfdJop"
      },
      "source": [
        "First setup paramaters for the speed test. We'll be testing time to sum elements in an ndarray versus a list."
      ]
    },
    {
      "cell_type": "code",
      "execution_count": null,
      "metadata": {
        "id": "Sm3AfIOWdJop"
      },
      "outputs": [],
      "source": [
        "from numpy import arange\n",
        "from timeit import Timer\n",
        "\n",
        "size    = 1000000\n",
        "timeits = 1000"
      ]
    },
    {
      "cell_type": "code",
      "execution_count": null,
      "metadata": {
        "id": "oKMkfdRzdJor",
        "colab": {
          "base_uri": "https://localhost:8080/"
        },
        "outputId": "16f30712-1cb8-456b-9c17-1454c755821e"
      },
      "outputs": [
        {
          "output_type": "execute_result",
          "data": {
            "text/plain": [
              "numpy.ndarray"
            ]
          },
          "metadata": {},
          "execution_count": 69
        }
      ],
      "source": [
        "# create the ndarray with values 0,1,2...,size-1\n",
        "nd_array = arange(size)\n",
        "type(nd_array)"
      ]
    },
    {
      "cell_type": "code",
      "execution_count": null,
      "metadata": {
        "id": "It2h6p4YdJov",
        "colab": {
          "base_uri": "https://localhost:8080/"
        },
        "outputId": "929fdecc-a2a4-45b1-f316-9a597ce5def7"
      },
      "outputs": [
        {
          "output_type": "stream",
          "name": "stdout",
          "text": [
            "Time taken by numpy ndarray: 0.000170 seconds\n"
          ]
        }
      ],
      "source": [
        "# timer expects the operation as a parameter,\n",
        "# here we pass nd_array.sum()\n",
        "timer_numpy = Timer(\"nd_array.sum()\", \"from __main__ import nd_array\")\n",
        "\n",
        "print(\"Time taken by numpy ndarray: %f seconds\" %\n",
        "      (timer_numpy.timeit(timeits)/timeits))"
      ]
    },
    {
      "cell_type": "code",
      "execution_count": null,
      "metadata": {
        "id": "Anw_MbzxdJox",
        "colab": {
          "base_uri": "https://localhost:8080/"
        },
        "outputId": "c27869f4-2469-43f4-e7f3-b6041e902d41"
      },
      "outputs": [
        {
          "output_type": "execute_result",
          "data": {
            "text/plain": [
              "list"
            ]
          },
          "metadata": {},
          "execution_count": 71
        }
      ],
      "source": [
        "# create the list with values 0,1,2...,size-1\n",
        "a_list = list(range(size))\n",
        "type(a_list)"
      ]
    },
    {
      "cell_type": "code",
      "execution_count": null,
      "metadata": {
        "id": "9ksubwtndJoy",
        "colab": {
          "base_uri": "https://localhost:8080/"
        },
        "outputId": "e3437833-e39b-4bfc-e785-254684993961"
      },
      "outputs": [
        {
          "output_type": "stream",
          "name": "stdout",
          "text": [
            "Time taken by list:  0.006217 seconds\n"
          ]
        }
      ],
      "source": [
        "# timer expects the operation as a parameter, here we pass sum(a_list)\n",
        "timer_list = Timer(\"sum(a_list)\", \"from __main__ import a_list\")\n",
        "\n",
        "print(\"Time taken by list:  %f seconds\" %\n",
        " (timer_list.timeit(timeits)/timeits))\n",
        "#ต่างกัน 10 เท่า"
      ]
    },
    {
      "cell_type": "markdown",
      "metadata": {
        "id": "Kpgx93KCdJo0"
      },
      "source": [
        "## Read or Write to Disk"
      ]
    },
    {
      "cell_type": "markdown",
      "metadata": {
        "id": "II3Vz3k2dJo0"
      },
      "source": [
        "Binary Format:"
      ]
    },
    {
      "cell_type": "code",
      "execution_count": null,
      "metadata": {
        "id": "KJxICVDOdJo0"
      },
      "outputs": [],
      "source": [
        "x = np.array([ 23.23, 24.24] )"
      ]
    },
    {
      "cell_type": "code",
      "execution_count": null,
      "metadata": {
        "id": "MNMgvQ3idJo2"
      },
      "outputs": [],
      "source": [
        "np.save('an_array', x)"
      ]
    },
    {
      "cell_type": "code",
      "execution_count": null,
      "metadata": {
        "id": "vINwxgZ2dJo3",
        "colab": {
          "base_uri": "https://localhost:8080/"
        },
        "outputId": "5c2deeec-4989-4ade-f4da-27e4ba0bf5c5"
      },
      "outputs": [
        {
          "output_type": "execute_result",
          "data": {
            "text/plain": [
              "array([23.23, 24.24])"
            ]
          },
          "metadata": {},
          "execution_count": 76
        }
      ],
      "source": [
        "np.load('an_array.npy')"
      ]
    },
    {
      "cell_type": "markdown",
      "metadata": {
        "id": "K8Z3qUvzdJo6"
      },
      "source": [
        "Text Format:"
      ]
    },
    {
      "cell_type": "code",
      "execution_count": null,
      "metadata": {
        "id": "XUBPCBhJdJo6"
      },
      "outputs": [],
      "source": [
        "np.savetxt('array.txt', X=x, delimiter=',')"
      ]
    },
    {
      "cell_type": "code",
      "execution_count": null,
      "metadata": {
        "id": "AODD93BqdJo9",
        "colab": {
          "base_uri": "https://localhost:8080/"
        },
        "outputId": "a40a8756-e6f5-44be-f383-0145afce814e"
      },
      "outputs": [
        {
          "output_type": "stream",
          "name": "stdout",
          "text": [
            "2.323000000000000043e+01\n",
            "2.423999999999999844e+01\n"
          ]
        }
      ],
      "source": [
        "#!type in Windows, !cat in Unix machine such as in Colab\n",
        "!cat array.txt"
      ]
    },
    {
      "cell_type": "code",
      "execution_count": null,
      "metadata": {
        "id": "gbZ6JDh1dJo_",
        "scrolled": true,
        "colab": {
          "base_uri": "https://localhost:8080/"
        },
        "outputId": "fa4ba717-944b-440e-e589-4f003d766445"
      },
      "outputs": [
        {
          "output_type": "execute_result",
          "data": {
            "text/plain": [
              "array([23.23, 24.24])"
            ]
          },
          "metadata": {},
          "execution_count": 79
        }
      ],
      "source": [
        "np.loadtxt('array.txt', delimiter=',')"
      ]
    },
    {
      "cell_type": "markdown",
      "metadata": {
        "id": "rG3iDfvodJpC"
      },
      "source": [
        "## Additional Common ndarray Operations"
      ]
    },
    {
      "cell_type": "markdown",
      "metadata": {
        "id": "IYwGvE-WdJpC"
      },
      "source": [
        "**Dot Product on Matrices and Inner Product on Vectors:**"
      ]
    },
    {
      "cell_type": "code",
      "execution_count": null,
      "metadata": {
        "id": "qgTIWcTidJpC",
        "colab": {
          "base_uri": "https://localhost:8080/"
        },
        "outputId": "6dad82f8-0803-405f-9b0a-04461d3c72c2"
      },
      "outputs": [
        {
          "output_type": "stream",
          "name": "stdout",
          "text": [
            "[[19 22]\n",
            " [43 50]]\n",
            "\n",
            "[[19 22]\n",
            " [43 50]]\n"
          ]
        }
      ],
      "source": [
        "# determine the dot product of two matrices\n",
        "# for 2d array, it is a multiplication\n",
        "x2d = np.array([[1,2],[3,4]])\n",
        "y2d = np.array([[5,6],[7,8]])\n",
        "\n",
        "print(x2d.dot(y2d)) #(1*5)+(2*7),(1*6)+(2*8),(3*5)+(4*7),(3*6)+(4*8) // มันคือการคูณเมทริกซ์\n",
        "print()\n",
        "print(np.dot(x2d, y2d))"
      ]
    },
    {
      "cell_type": "code",
      "execution_count": null,
      "metadata": {
        "id": "KeZa8B-ndJpF",
        "colab": {
          "base_uri": "https://localhost:8080/"
        },
        "outputId": "ada646c6-2cf5-4af5-9692-6828f4e3e7f5"
      },
      "outputs": [
        {
          "output_type": "stream",
          "name": "stdout",
          "text": [
            "170\n",
            "\n",
            "170\n"
          ]
        }
      ],
      "source": [
        "# determine the inner product of two vectors\n",
        "# for 1darray it is the inner product\n",
        "a1d = np.array([9 , 8 ])\n",
        "b1d = np.array([10, 10])\n",
        "# 9 * 10 + 8 * 10\n",
        "print(a1d.dot(b1d))\n",
        "print()\n",
        "print(np.dot(a1d, b1d))"
      ]
    },
    {
      "cell_type": "code",
      "execution_count": null,
      "metadata": {
        "id": "6C-u0qgYdJpI",
        "colab": {
          "base_uri": "https://localhost:8080/"
        },
        "outputId": "6c12f6dd-1962-451a-94af-762b3d4b2176"
      },
      "outputs": [
        {
          "output_type": "stream",
          "name": "stdout",
          "text": [
            "[25 59]\n",
            "\n",
            "[25 59]\n"
          ]
        }
      ],
      "source": [
        "# dot produce on an array and vector\n",
        "print(x2d.dot(a1d)) #(1*9)+(2*8) = 25 , (3*9)+(4*8) = 59\n",
        "print()\n",
        "print(np.dot(x2d, a1d))"
      ]
    },
    {
      "cell_type": "markdown",
      "metadata": {
        "id": "R148k_LYdJpQ"
      },
      "source": [
        "**Element-wise Functions:**\n",
        "\n",
        "For example, let's compare two arrays values to get the maximum of each."
      ]
    },
    {
      "cell_type": "code",
      "execution_count": null,
      "metadata": {
        "id": "jkjrqlX3dJpR",
        "colab": {
          "base_uri": "https://localhost:8080/"
        },
        "outputId": "23f7320e-acbf-4def-f844-96b9126b6f36"
      },
      "outputs": [
        {
          "output_type": "execute_result",
          "data": {
            "text/plain": [
              "array([ 0.43302619,  1.20303737, -0.96506567,  1.02827408,  0.22863013,\n",
              "        0.44513761, -1.13660221,  0.13513688])"
            ]
          },
          "metadata": {},
          "execution_count": 90
        }
      ],
      "source": [
        "# random array\n",
        "x = np.random.randn(8)\n",
        "x"
      ]
    },
    {
      "cell_type": "code",
      "execution_count": null,
      "metadata": {
        "id": "OXJN9Wx_dJpS",
        "colab": {
          "base_uri": "https://localhost:8080/"
        },
        "outputId": "139880f4-c621-4d00-d60c-24e0f563965c"
      },
      "outputs": [
        {
          "output_type": "execute_result",
          "data": {
            "text/plain": [
              "array([ 1.484537  , -1.07980489, -1.97772828, -1.7433723 ,  0.26607016,\n",
              "        2.38496733,  1.12369125,  1.67262221])"
            ]
          },
          "metadata": {},
          "execution_count": 92
        }
      ],
      "source": [
        "# another random array\n",
        "y = np.random.randn(8)\n",
        "y"
      ]
    },
    {
      "cell_type": "code",
      "execution_count": null,
      "metadata": {
        "id": "mvupEkMEdJpT",
        "colab": {
          "base_uri": "https://localhost:8080/"
        },
        "outputId": "320f980a-b6b4-49a0-969e-ef7ebd51b9b0"
      },
      "outputs": [
        {
          "output_type": "execute_result",
          "data": {
            "text/plain": [
              "array([ 1.484537  ,  1.20303737, -0.96506567,  1.02827408,  0.26607016,\n",
              "        2.38496733,  1.12369125,  1.67262221])"
            ]
          },
          "metadata": {},
          "execution_count": 93
        }
      ],
      "source": [
        "# returns element wise maximum between two arrays\n",
        "# เทียบ 2 ตัวแล้ว ret ค่าที่ max สุดออกมา\n",
        "np.maximum(x, y)"
      ]
    },
    {
      "cell_type": "markdown",
      "metadata": {
        "id": "pFMmgTRUdJpV"
      },
      "source": [
        "**Reshaping array:**"
      ]
    },
    {
      "cell_type": "code",
      "execution_count": null,
      "metadata": {
        "id": "1JpRRf56dJpV",
        "colab": {
          "base_uri": "https://localhost:8080/"
        },
        "outputId": "4173051b-0eb8-4dbd-df4f-52428eb62027"
      },
      "outputs": [
        {
          "output_type": "execute_result",
          "data": {
            "text/plain": [
              "array([ 0,  1,  2,  3,  4,  5,  6,  7,  8,  9, 10, 11, 12, 13, 14, 15, 16,\n",
              "       17, 18, 19])"
            ]
          },
          "metadata": {},
          "execution_count": 94
        }
      ],
      "source": [
        "# grab values from 0 through 19 in an array\n",
        "arr = np.arange(20)\n",
        "arr #มี array 20 ค่า"
      ]
    },
    {
      "cell_type": "code",
      "execution_count": null,
      "metadata": {
        "id": "1GQTEMkldJpY",
        "colab": {
          "base_uri": "https://localhost:8080/"
        },
        "outputId": "260b72a6-4b1c-4618-b4e8-d72e1c6de218"
      },
      "outputs": [
        {
          "output_type": "execute_result",
          "data": {
            "text/plain": [
              "array([[ 0,  1,  2,  3,  4],\n",
              "       [ 5,  6,  7,  8,  9],\n",
              "       [10, 11, 12, 13, 14],\n",
              "       [15, 16, 17, 18, 19]])"
            ]
          },
          "metadata": {},
          "execution_count": 95
        }
      ],
      "source": [
        "# reshape to be a 4 x 5 matrix\n",
        "arr.reshape(4,5) # สามารถ reshape ให้เป็น 4x5 ได้"
      ]
    },
    {
      "cell_type": "markdown",
      "metadata": {
        "id": "oAtipPLadJpb"
      },
      "source": [
        "**Transpose:**"
      ]
    },
    {
      "cell_type": "code",
      "execution_count": null,
      "metadata": {
        "id": "DW88bwp4dJpb",
        "colab": {
          "base_uri": "https://localhost:8080/"
        },
        "outputId": "eb1ee26b-0679-413c-8774-7527af24b6b0"
      },
      "outputs": [
        {
          "output_type": "execute_result",
          "data": {
            "text/plain": [
              "array([[11, 21],\n",
              "       [12, 22]])"
            ]
          },
          "metadata": {},
          "execution_count": 97
        }
      ],
      "source": [
        "# transpose // row to column and col to row\n",
        "ex1 = np.array([[11,12],[21,22]])\n",
        "\n",
        "ex1.T"
      ]
    },
    {
      "cell_type": "markdown",
      "metadata": {
        "id": "8Or_tXHmdJpc"
      },
      "source": [
        "**Indexing using where():**"
      ]
    },
    {
      "cell_type": "code",
      "execution_count": null,
      "metadata": {
        "id": "eHUh8EyydJpc"
      },
      "outputs": [],
      "source": [
        "x_1 = np.array([1,2,3,4,5])\n",
        "\n",
        "y_1 = np.array([11,22,33,44,55])\n",
        "\n",
        "filter = np.array([True, True, True, False, True])"
      ]
    },
    {
      "cell_type": "code",
      "execution_count": null,
      "metadata": {
        "id": "qybpN782dJpe",
        "colab": {
          "base_uri": "https://localhost:8080/"
        },
        "outputId": "a09d8499-6c20-4b47-a19a-526972cf4092"
      },
      "outputs": [
        {
          "output_type": "stream",
          "name": "stdout",
          "text": [
            "[ 1  2  3 44  5]\n"
          ]
        }
      ],
      "source": [
        "# When True yields x, otherwise yields y\n",
        "out = np.where(filter, x_1, y_1) #ค่าไหนมาจาก x เป็น True จาก y เป็น False ที่เราได้ filter บอกไว้แล้ว\n",
        "print(out)"
      ]
    },
    {
      "cell_type": "code",
      "execution_count": null,
      "metadata": {
        "id": "EL5iYdMvdJpf",
        "colab": {
          "base_uri": "https://localhost:8080/"
        },
        "outputId": "b18a336d-488a-4b2b-a9c6-af7a5c0d94cd"
      },
      "outputs": [
        {
          "output_type": "execute_result",
          "data": {
            "text/plain": [
              "array([[0.8052232 , 0.52164715, 0.90864888, 0.31923609, 0.09045935],\n",
              "       [0.30070006, 0.11398436, 0.82868133, 0.04689632, 0.62628715],\n",
              "       [0.54758616, 0.819287  , 0.19894754, 0.8568503 , 0.35165264],\n",
              "       [0.75464769, 0.29596171, 0.88393648, 0.32551164, 0.1650159 ],\n",
              "       [0.39252924, 0.09346037, 0.82110566, 0.15115202, 0.38411445]])"
            ]
          },
          "metadata": {},
          "execution_count": 102
        }
      ],
      "source": [
        "mat = np.random.rand(5,5)\n",
        "mat"
      ]
    },
    {
      "cell_type": "code",
      "execution_count": null,
      "metadata": {
        "id": "Ql8ier2udJpj",
        "colab": {
          "base_uri": "https://localhost:8080/"
        },
        "outputId": "936dc266-0ad1-4c4d-bc47-27a5a03a6cc0"
      },
      "outputs": [
        {
          "output_type": "execute_result",
          "data": {
            "text/plain": [
              "array([[1000, 1000, 1000,   -1,   -1],\n",
              "       [  -1,   -1, 1000,   -1, 1000],\n",
              "       [1000, 1000,   -1, 1000,   -1],\n",
              "       [1000,   -1, 1000,   -1,   -1],\n",
              "       [  -1,   -1, 1000,   -1,   -1]])"
            ]
          },
          "metadata": {},
          "execution_count": 104
        }
      ],
      "source": [
        "np.where( mat > 0.5, 1000, -1) #ใส่เงื่อนไข ถ้าค่าไหน > 0.5 is 1000 if < 0.5 is -1"
      ]
    },
    {
      "cell_type": "markdown",
      "metadata": {
        "id": "x5Ty_XUudJpl"
      },
      "source": [
        "**\"any\" or \"all\" conditionals:**"
      ]
    },
    {
      "cell_type": "code",
      "execution_count": null,
      "metadata": {
        "id": "6vDPlcpAdJpn"
      },
      "outputs": [],
      "source": [
        "arr_bools = np.array([ True, False, True, True, False ])"
      ]
    },
    {
      "cell_type": "code",
      "execution_count": null,
      "metadata": {
        "id": "fiWNCFFpdJpq",
        "colab": {
          "base_uri": "https://localhost:8080/"
        },
        "outputId": "a8c0fbe6-9b9b-41c1-f75f-7d07221ad4d8"
      },
      "outputs": [
        {
          "output_type": "execute_result",
          "data": {
            "text/plain": [
              "True"
            ]
          },
          "metadata": {},
          "execution_count": 106
        }
      ],
      "source": [
        "arr_bools.any() #อย่างน้อยตัวนึงมี True output ret True"
      ]
    },
    {
      "cell_type": "code",
      "execution_count": null,
      "metadata": {
        "id": "19l6rTPpdJpt",
        "scrolled": true,
        "colab": {
          "base_uri": "https://localhost:8080/"
        },
        "outputId": "05c45382-ef3f-44aa-82c8-02d61ff161df"
      },
      "outputs": [
        {
          "output_type": "execute_result",
          "data": {
            "text/plain": [
              "False"
            ]
          },
          "metadata": {},
          "execution_count": 107
        }
      ],
      "source": [
        "arr_bools.all() #ทุกอันต้องเป็น True"
      ]
    },
    {
      "cell_type": "markdown",
      "metadata": {
        "id": "47PSEpxIdJpx"
      },
      "source": [
        "**Random Number Generation:**"
      ]
    },
    {
      "cell_type": "code",
      "execution_count": null,
      "metadata": {
        "id": "5SCkRyW3dJpx",
        "colab": {
          "base_uri": "https://localhost:8080/"
        },
        "outputId": "fe50853a-9331-4821-c118-7a18433312ed"
      },
      "outputs": [
        {
          "output_type": "stream",
          "name": "stdout",
          "text": [
            "[ 1.28227668 -0.17180538  0.57765806 -1.47497488  0.07878845]\n"
          ]
        }
      ],
      "source": [
        "Y = np.random.normal(size = (1,5))[0] #select row 0\n",
        "print(Y)"
      ]
    },
    {
      "cell_type": "code",
      "execution_count": null,
      "metadata": {
        "id": "a5XCj1rkdJpy",
        "colab": {
          "base_uri": "https://localhost:8080/"
        },
        "outputId": "37dd17b4-a552-4492-b041-9335dd08c804"
      },
      "outputs": [
        {
          "output_type": "stream",
          "name": "stdout",
          "text": [
            "[27 11 39  2]\n"
          ]
        }
      ],
      "source": [
        "Z = np.random.randint(low=2,high=50,size=4) #rand int 2 - 50  4 ตัว\n",
        "print(Z)"
      ]
    },
    {
      "cell_type": "code",
      "execution_count": null,
      "metadata": {
        "id": "-kExgw_wdJp1",
        "colab": {
          "base_uri": "https://localhost:8080/"
        },
        "outputId": "17adc85f-6989-4932-f94d-00d1bdb6a8d8"
      },
      "outputs": [
        {
          "output_type": "execute_result",
          "data": {
            "text/plain": [
              "array([ 2, 27, 11, 39])"
            ]
          },
          "metadata": {},
          "execution_count": 110
        }
      ],
      "source": [
        "np.random.permutation(Z) #return a new ordering of elements in Z"
      ]
    },
    {
      "cell_type": "code",
      "execution_count": null,
      "metadata": {
        "id": "K_4s4OjkdJp2",
        "colab": {
          "base_uri": "https://localhost:8080/"
        },
        "outputId": "afc2291d-85d6-46c2-e65e-23979e44df9e"
      },
      "outputs": [
        {
          "output_type": "execute_result",
          "data": {
            "text/plain": [
              "array([0.2350386 , 0.65996495, 0.21495319, 0.20304662])"
            ]
          },
          "metadata": {},
          "execution_count": 111
        }
      ],
      "source": [
        "np.random.uniform(size=4) #uniform distribution"
      ]
    },
    {
      "cell_type": "code",
      "execution_count": null,
      "metadata": {
        "id": "q_gIg4cWdJp4",
        "colab": {
          "base_uri": "https://localhost:8080/"
        },
        "outputId": "f1bad190-afa0-48ef-e1c3-ae1bbfb0771e"
      },
      "outputs": [
        {
          "output_type": "execute_result",
          "data": {
            "text/plain": [
              "array([ 0.91841365, -1.3193914 , -0.56172842,  0.20538457])"
            ]
          },
          "metadata": {},
          "execution_count": 112
        }
      ],
      "source": [
        "np.random.normal(size=4) #normal distribution"
      ]
    },
    {
      "cell_type": "markdown",
      "metadata": {
        "id": "Rb7qZDLZdJp6"
      },
      "source": [
        "**Merging data sets:**"
      ]
    },
    {
      "cell_type": "code",
      "execution_count": null,
      "metadata": {
        "id": "iRDjZRkcdJp6",
        "colab": {
          "base_uri": "https://localhost:8080/"
        },
        "outputId": "79e32b2c-1131-4bf9-a429-05738bca8fa8"
      },
      "outputs": [
        {
          "output_type": "stream",
          "name": "stdout",
          "text": [
            "[[19 43]\n",
            " [18 43]]\n",
            "\n",
            "[[28 14]\n",
            " [32 19]]\n"
          ]
        }
      ],
      "source": [
        "K = np.random.randint(low=2,high=50,size=(2,2))\n",
        "print(K)\n",
        "\n",
        "print()\n",
        "M = np.random.randint(low=2,high=50,size=(2,2))\n",
        "print(M)"
      ]
    },
    {
      "cell_type": "code",
      "execution_count": null,
      "metadata": {
        "id": "SGcAwnC-dJp7",
        "colab": {
          "base_uri": "https://localhost:8080/"
        },
        "outputId": "b8690744-f3d0-4ed4-c418-3015bf0864e2"
      },
      "outputs": [
        {
          "output_type": "execute_result",
          "data": {
            "text/plain": [
              "array([[19, 43],\n",
              "       [18, 43],\n",
              "       [28, 14],\n",
              "       [32, 19]])"
            ]
          },
          "metadata": {},
          "execution_count": 114
        }
      ],
      "source": [
        "#vertical stack\n",
        "np.vstack((K,M)) #เอามาต่อกันให้มี row มากขึ้น"
      ]
    },
    {
      "cell_type": "code",
      "execution_count": null,
      "metadata": {
        "id": "2knyT0Q1dJp8",
        "colab": {
          "base_uri": "https://localhost:8080/"
        },
        "outputId": "b741ad90-e387-4424-f299-16c8d9103a9f"
      },
      "outputs": [
        {
          "output_type": "execute_result",
          "data": {
            "text/plain": [
              "array([[19, 43, 28, 14],\n",
              "       [18, 43, 32, 19]])"
            ]
          },
          "metadata": {},
          "execution_count": 115
        }
      ],
      "source": [
        "np.hstack((K,M)) #เอามาต่อกันให้มี col มากขึ้น"
      ]
    },
    {
      "cell_type": "code",
      "execution_count": null,
      "metadata": {
        "id": "WgbABbtTdJp-",
        "colab": {
          "base_uri": "https://localhost:8080/"
        },
        "outputId": "bde2f269-39e9-4fdd-be66-633a9035d3ac"
      },
      "outputs": [
        {
          "output_type": "execute_result",
          "data": {
            "text/plain": [
              "array([[19, 43],\n",
              "       [18, 43],\n",
              "       [28, 14],\n",
              "       [32, 19]])"
            ]
          },
          "metadata": {},
          "execution_count": 107
        }
      ],
      "source": [
        "np.concatenate([K, M], axis = 0) #สามารถใช้ concatenate แทน v.stack ได้  axis 0 คือให้มี row เยอะขึ้น"
      ]
    },
    {
      "cell_type": "code",
      "execution_count": null,
      "metadata": {
        "id": "FCt4dldVdJqB",
        "colab": {
          "base_uri": "https://localhost:8080/"
        },
        "outputId": "0744cc4b-bab2-4332-c0f9-4453c75f1b67"
      },
      "outputs": [
        {
          "output_type": "execute_result",
          "data": {
            "text/plain": [
              "array([[19, 43, 28, 32],\n",
              "       [18, 43, 14, 19]])"
            ]
          },
          "metadata": {},
          "execution_count": 108
        }
      ],
      "source": [
        "np.concatenate([K, M.T], axis = 1) #สามารถใช้ concatenate แทน h.stack ได้  axis 1 คือให้มี col เยอะขึ้น"
      ]
    }
  ],
  "metadata": {
    "colab": {
      "provenance": []
    },
    "kernelspec": {
      "display_name": "Python 3",
      "language": "python",
      "name": "python3"
    },
    "language_info": {
      "codemirror_mode": {
        "name": "ipython",
        "version": 3
      },
      "file_extension": ".py",
      "mimetype": "text/x-python",
      "name": "python",
      "nbconvert_exporter": "python",
      "pygments_lexer": "ipython3",
      "version": "3.11.4"
    }
  },
  "nbformat": 4,
  "nbformat_minor": 0
}